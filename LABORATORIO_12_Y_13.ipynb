{
  "nbformat": 4,
  "nbformat_minor": 0,
  "metadata": {
    "colab": {
      "provenance": [],
      "authorship_tag": "ABX9TyM/EnowvGhoDhQ/Csww+Xum",
      "include_colab_link": true
    },
    "kernelspec": {
      "name": "python3",
      "display_name": "Python 3"
    },
    "language_info": {
      "name": "python"
    }
  },
  "cells": [
    {
      "cell_type": "markdown",
      "metadata": {
        "id": "view-in-github",
        "colab_type": "text"
      },
      "source": [
        "<a href=\"https://colab.research.google.com/github/AyrtonFrederikFERNANDEZ/FRK/blob/main/LABORATORIO_12_Y_13.ipynb\" target=\"_parent\"><img src=\"https://colab.research.google.com/assets/colab-badge.svg\" alt=\"Open In Colab\"/></a>"
      ]
    },
    {
      "cell_type": "code",
      "source": [
        "#------------------------parte 01 – COLAS----------------------------------------"
      ],
      "metadata": {
        "id": "7UAAcywIZPjb"
      },
      "execution_count": null,
      "outputs": []
    },
    {
      "cell_type": "code",
      "execution_count": 4,
      "metadata": {
        "id": "VBREKH1vOYgb",
        "colab": {
          "base_uri": "https://localhost:8080/"
        },
        "outputId": "f7400fad-04ed-4d61-e5a0-f24c9182c625"
      },
      "outputs": [
        {
          "output_type": "stream",
          "name": "stdout",
          "text": [
            "La palabra \"reconocimiento\" es palíndroma.\n"
          ]
        }
      ],
      "source": [
        "#EJERCICIO 1 Verificar si una palabra es palíndroma\n",
        "class Cola:\n",
        "    def __init__(self):\n",
        "        self.items = []\n",
        "\n",
        "    def is_empty(self):\n",
        "        return len(self.items) == 0\n",
        "\n",
        "    def encolar(self, elemento):\n",
        "        self.items.append(elemento)\n",
        "\n",
        "    def desencolar(self):\n",
        "        if not self.is_empty():\n",
        "            return self.items.pop(0)\n",
        "        else:\n",
        "            print(\"La cola está vacía.\")\n",
        "\n",
        "def es_palindroma(palabra):\n",
        "    cola = Cola()\n",
        "    palabra = palabra.lower()  # Convertir la palabra a minúsculas para comparar sin distinción de mayúsculas y minúsculas\n",
        "\n",
        "    # Agregar cada caracter de la palabra a la cola\n",
        "    for caracter in palabra:\n",
        "        cola.encolar(caracter)\n",
        "\n",
        "    # Comparar los caracteres de la palabra original con los de la cola en orden inverso\n",
        "    for caracter in palabra:\n",
        "        if caracter != cola.desencolar():\n",
        "            return False\n",
        "\n",
        "    return True\n",
        "\n",
        "# Ejemplo\n",
        "palabra = \"reconocimiento\"\n",
        "if es_palindroma(palabra):\n",
        "    print(f'La palabra \"{palabra}\" es palíndroma.')\n",
        "else:\n",
        "    print(f'La palabra \"{palabra}\" no es palíndroma.')\n",
        "\n"
      ]
    },
    {
      "cell_type": "code",
      "source": [
        "#EJERCICIO 2 Diseño de un sistema de gestión de pedidos\n",
        "\n",
        "class SistemaGestionPedidos:\n",
        "    def __init__(self):\n",
        "        self.cola_pedidos = []\n",
        "\n",
        "    def agregar_pedido(self, pedido):\n",
        "        self.cola_pedidos.append(pedido)\n",
        "        print(f\"Pedido agregado: {pedido}\")\n",
        "\n",
        "    def procesar_pedido(self):\n",
        "        if self.cola_pedidos:\n",
        "            pedido_procesado = self.cola_pedidos.pop(0)\n",
        "            print(f\"Pedido procesado: {pedido_procesado}\")\n",
        "        else:\n",
        "            print(\"No hay pedidos para procesar.\")\n",
        "\n",
        "    def mostrar_estado_cola(self):\n",
        "        if self.cola_pedidos:\n",
        "            print(\"Estado actual de la cola de pedidos:\")\n",
        "            for i, pedido in enumerate(self.cola_pedidos, start=1):\n",
        "                print(f\"  {i}. {pedido}\")\n",
        "        else:\n",
        "            print(\"La cola de pedidos está vacía.\")\n",
        "\n",
        "# Ejemplo\n",
        "sistema_pedidos = SistemaGestionPedidos()\n",
        "\n",
        "sistema_pedidos.agregar_pedido(\"Pizza\")\n",
        "sistema_pedidos.agregar_pedido(\"Hamburguesa\")\n",
        "sistema_pedidos.agregar_pedido(\"Ensalada\")\n",
        "\n",
        "sistema_pedidos.mostrar_estado_cola()\n",
        "\n",
        "sistema_pedidos.procesar_pedido()\n",
        "sistema_pedidos.procesar_pedido()\n",
        "\n",
        "sistema_pedidos.mostrar_estado_cola()\n",
        "\n",
        "sistema_pedidos.procesar_pedido()\n",
        "sistema_pedidos.mostrar_estado_cola()\n"
      ],
      "metadata": {
        "id": "nmBUkSuJPNTS",
        "colab": {
          "base_uri": "https://localhost:8080/"
        },
        "outputId": "5f657c67-a863-451e-e40f-6d1bb24c43a0"
      },
      "execution_count": 5,
      "outputs": [
        {
          "output_type": "stream",
          "name": "stdout",
          "text": [
            "Pedido agregado: Pizza\n",
            "Pedido agregado: Hamburguesa\n",
            "Pedido agregado: Ensalada\n",
            "Estado actual de la cola de pedidos:\n",
            "  1. Pizza\n",
            "  2. Hamburguesa\n",
            "  3. Ensalada\n",
            "Pedido procesado: Pizza\n",
            "Pedido procesado: Hamburguesa\n",
            "Estado actual de la cola de pedidos:\n",
            "  1. Ensalada\n",
            "Pedido procesado: Ensalada\n",
            "La cola de pedidos está vacía.\n"
          ]
        }
      ]
    },
    {
      "cell_type": "code",
      "source": [
        "#EJERCICIO 3 Diseño de un sistema de gestión de pedidos\n",
        "\n",
        "from collections import deque\n",
        "\n",
        "# Definir el laberinto como una matriz\n",
        "laberinto = [\n",
        "    [0, 1, 0, 0, 0],\n",
        "    [0, 1, 0, 1, 0],\n",
        "    [0, 0, 0, 1, 0],\n",
        "    [0, 1, 0, 0, 0],\n",
        "    [0, 0, 0, 1, 0]\n",
        "]\n",
        "\n",
        "# Definir direcciones posibles (arriba, abajo, izquierda, derecha)\n",
        "direcciones = [(0, -1), (0, 1), (-1, 0), (1, 0)]\n",
        "\n",
        "def bfs(laberinto, inicio, destino):\n",
        "    fila_inicio, columna_inicio = inicio\n",
        "    fila_destino, columna_destino = destino\n",
        "    visitados = set()\n",
        "    cola = deque([(fila_inicio, columna_inicio, 0)])  # Usamos una cola para BFS, guardando fila, columna y distancia\n",
        "\n",
        "    while cola:\n",
        "        fila, columna, distancia = cola.popleft()\n",
        "        if (fila, columna) == (fila_destino, columna_destino):\n",
        "            return distancia\n",
        "        if (fila, columna) not in visitados:\n",
        "            visitados.add((fila, columna))\n",
        "            for dx, dy in direcciones:\n",
        "                nueva_fila, nueva_columna = fila + dx, columna + dy\n",
        "                if 0 <= nueva_fila < len(laberinto) and 0 <= nueva_columna < len(laberinto[0]) and \\\n",
        "                        laberinto[nueva_fila][nueva_columna] == 0:\n",
        "                    cola.append((nueva_fila, nueva_columna, distancia + 1))\n",
        "    return -1  # No se encontró un camino\n",
        "\n",
        "# Ejemplo\n",
        "inicio = (0, 0)\n",
        "destino = (4, 4)\n",
        "distancia_minima = bfs(laberinto, inicio, destino)\n",
        "if distancia_minima != -1:\n",
        "    print(f\"La distancia mínima desde el punto de inicio hasta el destino es: {distancia_minima}\")\n",
        "else:\n",
        "    print(\"No se encontró un camino desde el punto de inicio hasta el destino.\")\n"
      ],
      "metadata": {
        "id": "4xx07EMkPTNy",
        "colab": {
          "base_uri": "https://localhost:8080/"
        },
        "outputId": "2c7bd06a-a6c9-4087-bb14-d96375b00ec8"
      },
      "execution_count": 9,
      "outputs": [
        {
          "output_type": "stream",
          "name": "stdout",
          "text": [
            "La distancia mínima desde el punto de inicio hasta el destino es: 8\n"
          ]
        }
      ]
    },
    {
      "cell_type": "code",
      "source": [
        "#EJERCICIO 4 Diseño de un sistema de gestión de tareas (Avanzado)\n",
        "\n",
        "class SistemaGestionTareas:\n",
        "    def __init__(self):\n",
        "        self.tareas_pendientes = []\n",
        "\n",
        "    def agregar_tarea(self, tarea):\n",
        "        self.tareas_pendientes.append(tarea)\n",
        "        print(f\"Tarea agregada: {tarea}\")\n",
        "\n",
        "    def completar_tarea(self):\n",
        "        if self.tareas_pendientes:\n",
        "            tarea_completada = self.tareas_pendientes.pop(0)\n",
        "            print(f\"Tarea completada: {tarea_completada}\")\n",
        "        else:\n",
        "            print(\"No hay tareas pendientes para completar.\")\n",
        "\n",
        "    def mostrar_proxima_tarea_pendiente(self):\n",
        "        if self.tareas_pendientes:\n",
        "            print(f\"Próxima tarea pendiente: {self.tareas_pendientes[0]}\")\n",
        "        else:\n",
        "            print(\"No hay tareas pendientes.\")\n",
        "\n",
        "# Ejemplo de uso\n",
        "sistema_tareas = SistemaGestionTareas()\n",
        "\n",
        "sistema_tareas.agregar_tarea(\"Hacer la compra\")\n",
        "sistema_tareas.agregar_tarea(\"Llamar al cliente\")\n",
        "sistema_tareas.agregar_tarea(\"Enviar informe\")\n",
        "\n",
        "sistema_tareas.mostrar_proxima_tarea_pendiente()\n",
        "\n",
        "sistema_tareas.completar_tarea()\n",
        "\n",
        "sistema_tareas.mostrar_proxima_tarea_pendiente()\n"
      ],
      "metadata": {
        "id": "Ul93Ze_9PhJA",
        "colab": {
          "base_uri": "https://localhost:8080/"
        },
        "outputId": "981b576f-62fe-455b-f760-6c4a3eafda54"
      },
      "execution_count": 10,
      "outputs": [
        {
          "output_type": "stream",
          "name": "stdout",
          "text": [
            "Tarea agregada: Hacer la compra\n",
            "Tarea agregada: Llamar al cliente\n",
            "Tarea agregada: Enviar informe\n",
            "Próxima tarea pendiente: Hacer la compra\n",
            "Tarea completada: Hacer la compra\n",
            "Próxima tarea pendiente: Llamar al cliente\n"
          ]
        }
      ]
    },
    {
      "cell_type": "code",
      "source": [
        "#____________________Parte 2 - ARBOLES_________________________________________________"
      ],
      "metadata": {
        "id": "sRN2I-44Z4GG"
      },
      "execution_count": null,
      "outputs": []
    },
    {
      "cell_type": "code",
      "source": [
        "#EJERCICIO 5\n",
        "class Nodo:\n",
        "    def __init__(self, valor):\n",
        "        self.valor = valor\n",
        "        self.hijos = []\n",
        "\n",
        "def contar_nodos(arbol):\n",
        "    if not arbol:\n",
        "        return 0\n",
        "    else:\n",
        "        cantidad_nodos = 1  # Contar el nodo actual\n",
        "        for hijo in arbol.hijos:\n",
        "            cantidad_nodos += contar_nodos(hijo)  # Recursivamente contar los nodos de cada hijo\n",
        "        return cantidad_nodos\n",
        "\n",
        "# Ejemplo de uso\n",
        "# Creamos un árbol de ejemplo\n",
        "raiz = Nodo(1)\n",
        "nodo2 = Nodo(2)\n",
        "nodo3 = Nodo(3)\n",
        "nodo4 = Nodo(4)\n",
        "nodo5 = Nodo(5)\n",
        "\n",
        "raiz.hijos = [nodo2, nodo3]\n",
        "nodo2.hijos = [nodo4]\n",
        "nodo3.hijos = [nodo5]\n",
        "\n",
        "# Contamos los nodos del árbol\n",
        "cantidad_nodos = contar_nodos(raiz)\n",
        "print(\"Cantidad de nodos en el árbol:\", cantidad_nodos)\n"
      ],
      "metadata": {
        "colab": {
          "base_uri": "https://localhost:8080/"
        },
        "id": "qwGr0Ro_PwSu",
        "outputId": "012c5828-4ce0-47f8-9270-c7b7461ffe24"
      },
      "execution_count": 11,
      "outputs": [
        {
          "output_type": "stream",
          "name": "stdout",
          "text": [
            "Cantidad de nodos en el árbol: 5\n"
          ]
        }
      ]
    },
    {
      "cell_type": "code",
      "source": [
        "#EJERCICIO 6\n",
        "class Nodo:\n",
        "    def __init__(self, valor):\n",
        "        self.valor = valor\n",
        "        self.hijos = []\n",
        "\n",
        "def contar_nodos_hoja(arbol):\n",
        "    if not arbol:\n",
        "        return 0\n",
        "    elif not arbol.hijos:\n",
        "        return 1  # El nodo es una hoja\n",
        "    else:\n",
        "        cantidad_nodos_hoja = 0\n",
        "        for hijo in arbol.hijos:\n",
        "            cantidad_nodos_hoja += contar_nodos_hoja(hijo)\n",
        "        return cantidad_nodos_hoja\n",
        "\n",
        "# Ejemplo de uso\n",
        "# Creamos un árbol de ejemplo\n",
        "raiz = Nodo(1)\n",
        "nodo2 = Nodo(2)\n",
        "nodo3 = Nodo(3)\n",
        "nodo4 = Nodo(4)\n",
        "nodo5 = Nodo(5)\n",
        "nodo6 = Nodo(6)\n",
        "\n",
        "raiz.hijos = [nodo2, nodo3]\n",
        "nodo2.hijos = [nodo4]\n",
        "nodo3.hijos = [nodo5, nodo6]\n",
        "\n",
        "# Contamos los nodos hoja del árbol\n",
        "cantidad_nodos_hoja = contar_nodos_hoja(raiz)\n",
        "print(\"Cantidad de nodos hoja en el árbol:\", cantidad_nodos_hoja)\n"
      ],
      "metadata": {
        "colab": {
          "base_uri": "https://localhost:8080/"
        },
        "id": "oEgc8Wk6AQFS",
        "outputId": "0ce6f84c-cfb9-48c6-98c9-6d23af4e47b4"
      },
      "execution_count": 12,
      "outputs": [
        {
          "output_type": "stream",
          "name": "stdout",
          "text": [
            "Cantidad de nodos hoja en el árbol: 3\n"
          ]
        }
      ]
    },
    {
      "cell_type": "code",
      "source": [
        "#EJERCICIO 7\n",
        "class Nodo:\n",
        "    def __init__(self, valor):\n",
        "        self.valor = valor\n",
        "        self.hijos = []\n",
        "\n",
        "def contar_nodos_internos(arbol):\n",
        "    if not arbol:\n",
        "        return 0\n",
        "    elif not arbol.hijos:\n",
        "        return 0  # El nodo es una hoja\n",
        "    else:\n",
        "        cantidad_nodos_internos = 1  # Contar el nodo actual como interno\n",
        "        for hijo in arbol.hijos:\n",
        "            cantidad_nodos_internos += contar_nodos_internos(hijo)\n",
        "        return cantidad_nodos_internos\n",
        "\n",
        "# Ejemplo de uso\n",
        "# Creamos un árbol de ejemplo\n",
        "raiz = Nodo(1)\n",
        "nodo2 = Nodo(2)\n",
        "nodo3 = Nodo(3)\n",
        "nodo4 = Nodo(4)\n",
        "nodo5 = Nodo(5)\n",
        "nodo6 = Nodo(6)\n",
        "\n",
        "raiz.hijos = [nodo2, nodo3]\n",
        "nodo2.hijos = [nodo4]\n",
        "nodo3.hijos = [nodo5, nodo6]\n",
        "\n",
        "# Contamos los nodos internos del árbol\n",
        "cantidad_nodos_internos = contar_nodos_internos(raiz)\n",
        "print(\"Cantidad de nodos internos en el árbol:\", cantidad_nodos_internos)\n"
      ],
      "metadata": {
        "id": "vhE8czzqAjIp",
        "colab": {
          "base_uri": "https://localhost:8080/"
        },
        "outputId": "d1bdc3d5-a776-4176-b236-da2fcc28f007"
      },
      "execution_count": 13,
      "outputs": [
        {
          "output_type": "stream",
          "name": "stdout",
          "text": [
            "Cantidad de nodos internos en el árbol: 3\n"
          ]
        }
      ]
    },
    {
      "cell_type": "code",
      "source": [
        "#EJERCICIO 8\n",
        "class Nodo:\n",
        "    def __init__(self, valor):\n",
        "        self.valor = valor\n",
        "        self.hijos = []\n",
        "\n",
        "def altura_arbol(arbol):\n",
        "    if not arbol:\n",
        "        return 0\n",
        "    elif not arbol.hijos:\n",
        "        return 1\n",
        "    else:\n",
        "        alturas_subarboles = [altura_arbol(hijo) for hijo in arbol.hijos]\n",
        "        return max(alturas_subarboles) + 1\n",
        "\n",
        "\n",
        "# Creamos un árbol de ejemplo\n",
        "raiz = Nodo(1)\n",
        "nodo2 = Nodo(2)\n",
        "nodo3 = Nodo(3)\n",
        "nodo4 = Nodo(4)\n",
        "nodo5 = Nodo(5)\n",
        "nodo6 = Nodo(6)\n",
        "\n",
        "raiz.hijos = [nodo2, nodo3]\n",
        "nodo2.hijos = [nodo4]\n",
        "nodo3.hijos = [nodo5, nodo6]\n",
        "\n",
        "# Calculamos la altura del árbol\n",
        "altura = altura_arbol(raiz)\n",
        "print(\"Altura del árbol:\", altura)\n"
      ],
      "metadata": {
        "id": "vc-LiKgTAtCT",
        "colab": {
          "base_uri": "https://localhost:8080/"
        },
        "outputId": "b622a535-1a9a-4dea-a491-9298f985f623"
      },
      "execution_count": 14,
      "outputs": [
        {
          "output_type": "stream",
          "name": "stdout",
          "text": [
            "Altura del árbol: 3\n"
          ]
        }
      ]
    },
    {
      "cell_type": "code",
      "source": [
        "#EJERCICIO 9\n",
        "class Nodo:\n",
        "    def __init__(self, valor):\n",
        "        self.valor = valor\n",
        "        self.hijos = []\n",
        "\n",
        "def profundidad_nodo(raiz, valor_nodo, profundidad=0):\n",
        "    if raiz is None:\n",
        "        return -1  # Si no hay nodo, la profundidad es -1\n",
        "    if raiz.valor == valor_nodo:\n",
        "        return profundidad  # Si encontramos el nodo, devolvemos la profundidad actual\n",
        "    for hijo in raiz.hijos:\n",
        "        profundidad_hijo = profundidad_nodo(hijo, valor_nodo, profundidad + 1)\n",
        "        if profundidad_hijo != -1:\n",
        "            return profundidad_hijo\n",
        "    return -1  # Si el nodo no está en el subárbol, devolvemos -1\n",
        "\n",
        "# Ejemplo de uso\n",
        "# Creamos un árbol de ejemplo\n",
        "raiz = Nodo(1)\n",
        "nodo2 = Nodo(2)\n",
        "nodo3 = Nodo(3)\n",
        "nodo4 = Nodo(4)\n",
        "nodo5 = Nodo(5)\n",
        "nodo6 = Nodo(6)\n",
        "\n",
        "raiz.hijos = [nodo2, nodo3]\n",
        "nodo2.hijos = [nodo4]\n",
        "nodo3.hijos = [nodo5, nodo6]\n",
        "\n",
        "# Calculamos la profundidad del nodo con valor 5\n",
        "valor_nodo = 5\n",
        "profundidad = profundidad_nodo(raiz, valor_nodo)\n",
        "print(f\"Profundidad del nodo {valor_nodo}: {profundidad}\")\n"
      ],
      "metadata": {
        "id": "SnIjcLdhAxwy",
        "colab": {
          "base_uri": "https://localhost:8080/"
        },
        "outputId": "da3896f4-f4a8-4e10-b5f5-6785618c17bc"
      },
      "execution_count": 15,
      "outputs": [
        {
          "output_type": "stream",
          "name": "stdout",
          "text": [
            "Profundidad del nodo 5: 2\n"
          ]
        }
      ]
    },
    {
      "cell_type": "code",
      "source": [
        "#EJERCICIO 10\n",
        "class Nodo:\n",
        "    def __init__(self, valor):\n",
        "        self.valor = valor\n",
        "        self.hijos = []\n",
        "\n",
        "def encontrar_minimo(raiz):\n",
        "    if raiz is None:\n",
        "        return float('inf')  # Si el árbol está vacío, devolvemos infinito\n",
        "    min_valor = raiz.valor\n",
        "    for hijo in raiz.hijos:\n",
        "        min_hijo = encontrar_minimo(hijo)\n",
        "        min_valor = min(min_valor, min_hijo)\n",
        "    return min_valor\n",
        "\n",
        "# Ejemplo de uso\n",
        "# Creamos un árbol de ejemplo\n",
        "raiz = Nodo(10)\n",
        "nodo2 = Nodo(5)\n",
        "nodo3 = Nodo(15)\n",
        "nodo4 = Nodo(3)\n",
        "nodo5 = Nodo(7)\n",
        "nodo6 = Nodo(12)\n",
        "\n",
        "raiz.hijos = [nodo2, nodo3]\n",
        "nodo2.hijos = [nodo4, nodo5]\n",
        "nodo3.hijos = [nodo6]\n",
        "\n",
        "# Encontramos el valor mínimo en el árbol\n",
        "minimo = encontrar_minimo(raiz)\n",
        "print(\"Valor mínimo en el árbol:\", minimo)\n"
      ],
      "metadata": {
        "id": "g_A3c6JrBBiu",
        "colab": {
          "base_uri": "https://localhost:8080/"
        },
        "outputId": "a793e84a-9dfa-4f39-f0e7-e9f0c9be78ac"
      },
      "execution_count": 1,
      "outputs": [
        {
          "output_type": "stream",
          "name": "stdout",
          "text": [
            "Valor mínimo en el árbol: 3\n"
          ]
        }
      ]
    },
    {
      "cell_type": "code",
      "source": [
        "#EJERCICIO 11\n",
        "class Nodo:\n",
        "    def __init__(self, valor):\n",
        "        self.valor = valor\n",
        "        self.hijos = []\n",
        "\n",
        "def encontrar_maximo(raiz):\n",
        "    if raiz is None:\n",
        "        return float('-inf')  # Si el árbol está vacío, devolvemos infinito negativo\n",
        "    max_valor = raiz.valor\n",
        "    for hijo in raiz.hijos:\n",
        "        max_hijo = encontrar_maximo(hijo)\n",
        "        max_valor = max(max_valor, max_hijo)\n",
        "    return max_valor\n",
        "\n",
        "# Creamos un árbol de ejemplo\n",
        "raiz = Nodo(10)\n",
        "nodo2 = Nodo(5)\n",
        "nodo3 = Nodo(15)\n",
        "nodo4 = Nodo(3)\n",
        "nodo5 = Nodo(7)\n",
        "nodo6 = Nodo(12)\n",
        "\n",
        "raiz.hijos = [nodo2, nodo3]\n",
        "nodo2.hijos = [nodo4, nodo5]\n",
        "nodo3.hijos = [nodo6]\n",
        "\n",
        "# Encontramos el valor máximo en el árbol\n",
        "maximo = encontrar_maximo(raiz)\n",
        "print(\"Valor máximo en el árbol:\", maximo)"
      ],
      "metadata": {
        "colab": {
          "base_uri": "https://localhost:8080/"
        },
        "id": "fxbU8cNCY8CB",
        "outputId": "02207f57-312f-4f3f-ca9b-6a7d6c6c3111"
      },
      "execution_count": 2,
      "outputs": [
        {
          "output_type": "stream",
          "name": "stdout",
          "text": [
            "Valor máximo en el árbol: 15\n"
          ]
        }
      ]
    }
  ]
}