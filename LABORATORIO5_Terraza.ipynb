{
  "nbformat": 4,
  "nbformat_minor": 0,
  "metadata": {
    "colab": {
      "provenance": [],
      "authorship_tag": "ABX9TyMYRbNrVMTQ47p43fYKLOmL",
      "include_colab_link": true
    },
    "kernelspec": {
      "name": "python3",
      "display_name": "Python 3"
    },
    "language_info": {
      "name": "python"
    }
  },
  "cells": [
    {
      "cell_type": "markdown",
      "metadata": {
        "id": "view-in-github",
        "colab_type": "text"
      },
      "source": [
        "<a href=\"https://colab.research.google.com/github/AyrtonFrederikFERNANDEZ/FRK/blob/main/Lab5_Terraza.ipynb\" target=\"_parent\"><img src=\"https://colab.research.google.com/assets/colab-badge.svg\" alt=\"Open In Colab\"/></a>"
      ]
    },
    {
      "cell_type": "code",
      "execution_count": null,
      "metadata": {
        "colab": {
          "base_uri": "https://localhost:8080/"
        },
        "id": "KXD7Igl0g8ud",
        "outputId": "473eef1c-3008-49f6-fb88-603215c40419"
      },
      "outputs": [
        {
          "output_type": "stream",
          "name": "stdout",
          "text": [
            "Conjunto de ejemplo: {1, 2, 3, 4, 5, 6, 7, 8, 9, 10}\n",
            "Números primos en el conjunto: {2, 3, 5, 7}\n"
          ]
        }
      ],
      "source": [
        "#EJERCICIO 1\n",
        "# Escriba una función que reciba un conjunto de números y devuelva un conjunto con los números primos\n",
        "def numeros_primos_en_conjunto(conjunto):\n",
        "    numeros_primos = set()\n",
        "\n",
        "    def es_primo(numero):\n",
        "        if numero < 2:\n",
        "            return False\n",
        "        for i in range(2, int(numero**0.5) + 1):\n",
        "            if numero % i == 0:\n",
        "                return False\n",
        "        return True\n",
        "\n",
        "    for num in conjunto:\n",
        "        if es_primo(num):\n",
        "            numeros_primos.add(num)\n",
        "\n",
        "    return numeros_primos\n",
        "\n",
        "# Ejemplo de uso\n",
        "conjunto_ejemplo = {1, 2, 3, 4, 5, 6, 7, 8, 9, 10}\n",
        "resultado_primos = numeros_primos_en_conjunto(conjunto_ejemplo)\n",
        "\n",
        "# Mostrar el resultado\n",
        "print(\"Conjunto de ejemplo:\", conjunto_ejemplo)\n",
        "print(\"Números primos en el conjunto:\", resultado_primos)"
      ]
    },
    {
      "cell_type": "code",
      "source": [
        "#ejercicio 2\n",
        "def palabras_que_comienzan(conjunto_palabras, letra):\n",
        "    palabras_comienzan_con_letra = {palabra for palabra in conjunto_palabras if palabra.startswith(letra)}\n",
        "    return palabras_comienzan_con_letra\n",
        "\n",
        "# Ejemplo de uso\n",
        "conjunto_palabras_ejemplo = {\"manzana\", \"banana\", \"pera\", \"naranja\", \"uva\", \"kiwi\"}\n",
        "letra_ejemplo = \"m\"\n",
        "resultado_palabras = palabras_que_comienzan(conjunto_palabras_ejemplo, letra_ejemplo)\n",
        "\n",
        "# Mostrar el resultado\n",
        "print(f\"Palabras que comienzan con la letra '{letra_ejemplo}':\", resultado_palabras)\n"
      ],
      "metadata": {
        "colab": {
          "base_uri": "https://localhost:8080/"
        },
        "id": "_1ZF5j3HFP9s",
        "outputId": "adc74bcc-7d58-4604-fab6-6d78fc97d805"
      },
      "execution_count": 2,
      "outputs": [
        {
          "output_type": "stream",
          "name": "stdout",
          "text": [
            "Palabras que comienzan con la letra 'm': {'manzana'}\n"
          ]
        }
      ]
    },
    {
      "cell_type": "code",
      "execution_count": null,
      "metadata": {
        "colab": {
          "base_uri": "https://localhost:8080/"
        },
        "id": "Yxefvt34hMbJ",
        "outputId": "121c09cb-fe5e-48eb-f16b-f64b936a3851"
      },
      "outputs": [
        {
          "output_type": "stream",
          "name": "stdout",
          "text": [
            "Números divisibles por 2 en el conjunto: {2, 4, 6, 8, 10}\n"
          ]
        }
      ],
      "source": [
        "#EJERCICIO 3\n",
        "#Escriba una función que reciba un conjunto de números y devuelva un conjunto con los números que\n",
        "#son divisibles por un número determinado\n",
        "def numeros_divisibles_en_conjunto(conjunto, divisor):\n",
        "    numeros_divisibles = {num for num in conjunto if num % divisor == 0}\n",
        "    return numeros_divisibles\n",
        "\n",
        "# Ejemplo de uso\n",
        "conjunto_ejemplo = {1, 2, 3, 4, 5, 6, 7, 8, 9, 10}\n",
        "divisor_ejemplo = 2\n",
        "resultado_divisibles = numeros_divisibles_en_conjunto(conjunto_ejemplo, divisor_ejemplo)\n",
        "\n",
        "# Mostrar el resultado\n",
        "print(f\"Números divisibles por {divisor_ejemplo} en el conjunto:\", resultado_divisibles)"
      ]
    },
    {
      "cell_type": "code",
      "source": [
        "#EJERCICIO 4\n",
        "def numeros_en_ambos_conjuntos(conjunto1, conjunto2):\n",
        "    numeros_comunes = conjunto1.intersection(conjunto2)\n",
        "    return numeros_comunes\n",
        "\n",
        "# Ejemplo de uso\n",
        "conjunto1_ejemplo = {1, 2, 3, 4, 5}\n",
        "conjunto2_ejemplo = {4, 5, 6, 7, 8}\n",
        "resultado_numeros = numeros_en_ambos_conjuntos(conjunto1_ejemplo, conjunto2_ejemplo)\n",
        "\n",
        "# Mostrar el resultado\n",
        "print(\"Conjunto 1:\", conjunto1_ejemplo)\n",
        "print(\"Conjunto 2:\", conjunto2_ejemplo)\n",
        "print(\"Números en ambos conjuntos:\", resultado_numeros)\n"
      ],
      "metadata": {
        "colab": {
          "base_uri": "https://localhost:8080/"
        },
        "id": "7ezBLJp0GDvO",
        "outputId": "0c05e640-096b-4680-8eb7-1c9933dc6bd4"
      },
      "execution_count": 3,
      "outputs": [
        {
          "output_type": "stream",
          "name": "stdout",
          "text": [
            "Conjunto 1: {1, 2, 3, 4, 5}\n",
            "Conjunto 2: {4, 5, 6, 7, 8}\n",
            "Números en ambos conjuntos: {4, 5}\n"
          ]
        }
      ]
    },
    {
      "cell_type": "code",
      "source": [
        "#ejercicio 5\n",
        "#Escriba una función que reciba dos conjuntos de números y devuelva un conjunto con los\n",
        "#números que están en el primer conjunto pero no en el segundo\n",
        "def diferencia_entre_conjuntos(conjunto1, conjunto2):\n",
        "    diferencia = conjunto1.difference(conjunto2)\n",
        "    return diferencia\n",
        "\n",
        "# Ejemplo de uso\n",
        "conjunto1_ejemplo = {1, 2, 3, 4, 5}\n",
        "conjunto2_ejemplo = {4, 5, 6, 7, 8}\n",
        "resultado_diferencia = diferencia_entre_conjuntos(conjunto1_ejemplo, conjunto2_ejemplo)\n",
        "\n",
        "# Mostrar el resultado\n",
        "print(\"Conjunto 1:\", conjunto1_ejemplo)\n",
        "print(\"Conjunto 2:\", conjunto2_ejemplo)\n",
        "print(\"Diferencia entre conjuntos (Conjunto 1 - Conjunto 2):\", resultado_diferencia)\n"
      ],
      "metadata": {
        "colab": {
          "base_uri": "https://localhost:8080/"
        },
        "id": "_KkqvCKxrP0U",
        "outputId": "ac5acc69-67da-4223-d163-bda060ac8e6e"
      },
      "execution_count": null,
      "outputs": [
        {
          "output_type": "stream",
          "name": "stdout",
          "text": [
            "Conjunto 1: {1, 2, 3, 4, 5}\n",
            "Conjunto 2: {4, 5, 6, 7, 8}\n",
            "Diferencia entre conjuntos (Conjunto 1 - Conjunto 2): {1, 2, 3}\n"
          ]
        }
      ]
    },
    {
      "cell_type": "code",
      "source": [
        "#ejercicio 6\n",
        "def numeros_noRepetidos(conjunto1, conjunto2):\n",
        "    numeros_no_en_primero = conjunto2 - conjunto1\n",
        "    return numeros_no_en_primero\n",
        "\n",
        "# Ejemplo de uso\n",
        "conjunto1_ejemplo = {1, 2, 3, 4, 5}\n",
        "conjunto2_ejemplo = {4, 5, 6, 7, 8}\n",
        "resultado_numeros = numeros_noRepetidos(conjunto1_ejemplo, conjunto2_ejemplo)\n",
        "\n",
        "# Mostrar el resultado\n",
        "print(\"Conjunto 1:\", conjunto1_ejemplo)\n",
        "print(\"Conjunto 2:\", conjunto2_ejemplo)\n",
        "print(\"Números en el segundo conjunto pero no en el primero:\", resultado_numeros)\n"
      ],
      "metadata": {
        "colab": {
          "base_uri": "https://localhost:8080/"
        },
        "id": "He-bRptUGdkS",
        "outputId": "d95558e2-b250-4ce0-e9d8-8cec40095426"
      },
      "execution_count": 4,
      "outputs": [
        {
          "output_type": "stream",
          "name": "stdout",
          "text": [
            "Conjunto 1: {1, 2, 3, 4, 5}\n",
            "Conjunto 2: {4, 5, 6, 7, 8}\n",
            "Números en el segundo conjunto pero no en el primero: {8, 6, 7}\n"
          ]
        }
      ]
    },
    {
      "cell_type": "code",
      "source": [
        "#ejercicio 7\n",
        "#Escriba una función que reciba un conjunto de palabras y devuelva un conjunto con las palabras que son\n",
        "#anagramas\n",
        "def encontrar_anagramas(conjunto_palabras):\n",
        "    anagramas = set()\n",
        "\n",
        "    # Crear un diccionario para almacenar palabras anagramas\n",
        "    anagramas_dict = {}\n",
        "\n",
        "    for palabra in conjunto_palabras:\n",
        "        # Ordenar las letras de la palabra y convertir a tupla\n",
        "        palabra_ordenada = tuple(sorted(palabra))\n",
        "\n",
        "        # Agregar la palabra al conjunto de anagramas correspondiente\n",
        "        anagramas_dict.setdefault(palabra_ordenada, set()).add(palabra)\n",
        "\n",
        "    # Filtrar las palabras que tienen más de un anagrama\n",
        "    anagramas = {palabra for conjunto in anagramas_dict.values() if len(conjunto) > 1 for palabra in conjunto}\n",
        "\n",
        "    return anagramas\n",
        "\n",
        "# Ejemplo de uso\n",
        "conjunto_palabras_ejemplo = {\"ramon\", \"alvaro\", \"iman\", \"top\", \"pot\", \"opt\", \"car\", \"arc\"}\n",
        "resultado_anagramas = encontrar_anagramas(conjunto_palabras_ejemplo)\n",
        "\n",
        "# Mostrar el resultado\n",
        "print(\"Conjunto de palabras:\", conjunto_palabras_ejemplo)\n",
        "print(\"Palabras que son anagramas:\", resultado_anagramas)"
      ],
      "metadata": {
        "colab": {
          "base_uri": "https://localhost:8080/"
        },
        "id": "sTWFuV2fr2hp",
        "outputId": "b940fef9-f545-4a19-e3af-d2abc7c8d43a"
      },
      "execution_count": null,
      "outputs": [
        {
          "output_type": "stream",
          "name": "stdout",
          "text": [
            "Conjunto de palabras: {'iman', 'alvaro', 'top', 'opt', 'arc', 'car', 'ramon', 'pot'}\n",
            "Palabras que son anagramas: {'pot', 'top', 'opt', 'arc', 'car'}\n"
          ]
        }
      ]
    },
    {
      "cell_type": "code",
      "source": [
        "#EJERCICIO 8\n",
        "def palabras_palindromos(conjunto_palabras):\n",
        "    palindromos = {palabra for palabra in conjunto_palabras if palabra == palabra[::-1]}\n",
        "    return palindromos\n",
        "\n",
        "# Ejemplo de uso\n",
        "conjunto_palabras_ejemplo = {\"radar\", \"civic\", \"hello\", \"level\", \"world\", \"deified\"}\n",
        "resultado_palindromos = palabras_palindromos(conjunto_palabras_ejemplo)\n",
        "\n",
        "# Mostrar el resultado\n",
        "print(\"Conjunto de palabras:\", conjunto_palabras_ejemplo)\n",
        "print(\"Palíndromos en el conjunto:\", resultado_palindromos)\n"
      ],
      "metadata": {
        "colab": {
          "base_uri": "https://localhost:8080/"
        },
        "id": "mkO3VFBBGxtw",
        "outputId": "cc14ad77-fdf2-4417-d18b-00c706715430"
      },
      "execution_count": 5,
      "outputs": [
        {
          "output_type": "stream",
          "name": "stdout",
          "text": [
            "Conjunto de palabras: {'deified', 'hello', 'level', 'civic', 'radar', 'world'}\n",
            "Palíndromos en el conjunto: {'deified', 'civic', 'radar', 'level'}\n"
          ]
        }
      ]
    },
    {
      "cell_type": "code",
      "source": [
        "# ejercicio 9\n",
        "# Escriba una función que reciba un conjunto de palabras y devuelva un conjunto con las palabras que\n",
        "#tienen una longitud determinada\n",
        "def palabras_con_longitud(conjunto_palabras, longitud_deseada):\n",
        "    palabras_seleccionadas = {palabra for palabra in conjunto_palabras if len(palabra) == longitud_deseada}\n",
        "    return palabras_seleccionadas\n",
        "\n",
        "# Ejemplo de uso\n",
        "conjunto_palabras_ejemplo = {\"apple\", \"banana\", \"orange\", \"grape\", \"kiwi\", \"pear\", \"plum\"}\n",
        "longitud_deseada_ejemplo = 6\n",
        "resultado_palabras = palabras_con_longitud(conjunto_palabras_ejemplo, longitud_deseada_ejemplo)\n",
        "\n",
        "# Mostrar el resultado\n",
        "print(\"Conjunto de palabras:\", conjunto_palabras_ejemplo)\n",
        "print(f\"Palabras con longitud {longitud_deseada_ejemplo}:\", resultado_palabras)\n"
      ],
      "metadata": {
        "colab": {
          "base_uri": "https://localhost:8080/"
        },
        "id": "i-pNa6ycsKEp",
        "outputId": "7fb0394f-d605-4e0d-cfb7-73aa91b41ea5"
      },
      "execution_count": null,
      "outputs": [
        {
          "output_type": "stream",
          "name": "stdout",
          "text": [
            "Conjunto de palabras: {'kiwi', 'pear', 'orange', 'grape', 'apple', 'plum', 'banana'}\n",
            "Palabras con longitud 6: {'orange', 'banana'}\n"
          ]
        }
      ]
    },
    {
      "cell_type": "code",
      "source": [
        "#ejercicio 10\n",
        "def palabras_con_letra(conjunto_palabras, letra):\n",
        "    palabras_con_la_letra = {palabra for palabra in conjunto_palabras if letra in palabra}\n",
        "    return palabras_con_la_letra\n",
        "\n",
        "# Ejemplo de uso\n",
        "conjunto_palabras_ejemplo = {\"manzana\", \"banana\", \"pera\", \"naranja\", \"uva\", \"kiwi\"}\n",
        "letra_ejemplo = \"a\"\n",
        "resultado_palabras = palabras_con_letra(conjunto_palabras_ejemplo, letra_ejemplo)\n",
        "\n",
        "# Mostrar el resultado\n",
        "print(f\"Palabras en el conjunto que contienen la letra '{letra_ejemplo}':\", resultado_palabras)\n"
      ],
      "metadata": {
        "colab": {
          "base_uri": "https://localhost:8080/"
        },
        "id": "86RfMj-IG7OI",
        "outputId": "a24580d6-d759-4248-df9e-d8086441fc71"
      },
      "execution_count": 6,
      "outputs": [
        {
          "output_type": "stream",
          "name": "stdout",
          "text": [
            "Palabras en el conjunto que contienen la letra 'a': {'naranja', 'banana', 'pera', 'uva', 'manzana'}\n"
          ]
        }
      ]
    },
    {
      "cell_type": "code",
      "source": [
        "#ejercicio 11\n",
        "#Escriba una función que reciba un conjunto de números y devuelva un conjunto con los números que\n",
        "#están ordenados de menor a mayor.\n",
        "\n",
        "def numeros_ordenados(conjunto_numeros):\n",
        "    numeros_ordenados_set = set()\n",
        "\n",
        "    # Convertir el conjunto a una lista, ordenarla y luego convertirla de nuevo a un conjunto\n",
        "    numeros_ordenados_lista = sorted(list(conjunto_numeros))\n",
        "    numeros_ordenados_set = set(numeros_ordenados_lista)\n",
        "\n",
        "    return numeros_ordenados_set\n",
        "\n",
        "# Ejemplo de uso\n",
        "conjunto_numeros_ejemplo = {5, 3, 8, 2, 7, 1}\n",
        "resultado_numeros_ordenados = numeros_ordenados(conjunto_numeros_ejemplo)\n",
        "\n",
        "# Mostrar el resultado\n",
        "print(\"Conjunto de números:\", conjunto_numeros_ejemplo)\n",
        "print(\"Números ordenados de menor a mayor:\", resultado_numeros_ordenados)\n"
      ],
      "metadata": {
        "colab": {
          "base_uri": "https://localhost:8080/"
        },
        "id": "yN4dqkY7tyNz",
        "outputId": "8a37372e-67e5-4347-d12e-f3a9f87cd461"
      },
      "execution_count": null,
      "outputs": [
        {
          "output_type": "stream",
          "name": "stdout",
          "text": [
            "Conjunto de números: {1, 2, 3, 5, 7, 8}\n",
            "Números ordenados de menor a mayor: {1, 2, 3, 5, 7, 8}\n"
          ]
        }
      ]
    },
    {
      "cell_type": "code",
      "source": [
        "#ejercicio 12\n",
        "def numeros_ordenados_mayor_a_menor(conjunto_numeros):\n",
        "    numeros_ordenados = sorted(conjunto_numeros, reverse=True)\n",
        "    return numeros_ordenados\n",
        "\n",
        "# Ejemplo de uso\n",
        "conjunto_numeros_ejemplo = {5, 2, 8, 1, 9, 3}\n",
        "resultado_numeros = numeros_ordenados_mayor_a_menor(conjunto_numeros_ejemplo)\n",
        "\n",
        "# Mostrar el resultado\n",
        "print(\"Conjunto de números:\", conjunto_numeros_ejemplo)\n",
        "print(\"Números ordenados de mayor a menor:\", resultado_numeros)\n"
      ],
      "metadata": {
        "colab": {
          "base_uri": "https://localhost:8080/"
        },
        "id": "mwq91lDHHFQz",
        "outputId": "32a15621-3f23-4559-c890-d202f41b9fb0"
      },
      "execution_count": 7,
      "outputs": [
        {
          "output_type": "stream",
          "name": "stdout",
          "text": [
            "Conjunto de números: {1, 2, 3, 5, 8, 9}\n",
            "Números ordenados de mayor a menor: [9, 8, 5, 3, 2, 1]\n"
          ]
        }
      ]
    },
    {
      "cell_type": "code",
      "source": [
        "#ejercicio 13\n",
        "#Escriba una función que reciba un conjunto de números y devuelva un conjunto con los números que\n",
        "#están duplicados.\n",
        "def encontrar_numeros_duplicados(conjunto_numeros):\n",
        "    numeros_vistos = set()\n",
        "    numeros_duplicados = set()\n",
        "\n",
        "    for numero in conjunto_numeros:\n",
        "        if numero in numeros_vistos:\n",
        "            numeros_duplicados.add(numero)\n",
        "        else:\n",
        "            numeros_vistos.add(numero)\n",
        "\n",
        "    return numeros_duplicados\n",
        "    #\n",
        "conjunto_numeros_ejemplo = {1, 2, 3, 2, 4, 5, 6, 7, 7, 8}\n",
        "resultado_duplicados = encontrar_numeros_duplicados(conjunto_numeros_ejemplo)\n",
        "print(\"Conjunto de números:\", conjunto_numeros_ejemplo)\n",
        "print(\"Números duplicados:\", resultado_duplicados)\n"
      ],
      "metadata": {
        "colab": {
          "base_uri": "https://localhost:8080/"
        },
        "id": "dWstCWKa1_qQ",
        "outputId": "4c8b2941-23a9-4ad6-f89b-210ff595a0e0"
      },
      "execution_count": null,
      "outputs": [
        {
          "output_type": "stream",
          "name": "stdout",
          "text": [
            "Conjunto de números: {1, 2, 3, 4, 5, 6, 7, 8}\n",
            "Números duplicados: set()\n"
          ]
        }
      ]
    },
    {
      "cell_type": "code",
      "source": [
        "#ejercicio 14\n",
        "def numeros_no_duplicados(conjunto_numeros):\n",
        "    numeros_no_duplicados = {numero for numero in conjunto_numeros if list(conjunto_numeros).count(numero) == 1}\n",
        "    return numeros_no_duplicados\n",
        "\n",
        "# Ejemplo de uso\n",
        "conjunto_numeros_ejemplo = {1, 2, 3, 2, 4, 5, 6, 7, 3, 8}\n",
        "resultado_numeros = numeros_no_duplicados(conjunto_numeros_ejemplo)\n",
        "\n",
        "# Mostrar el resultado\n",
        "print(\"Conjunto de números:\", conjunto_numeros_ejemplo)\n",
        "print(\"Números no duplicados:\", resultado_numeros)\n"
      ],
      "metadata": {
        "colab": {
          "base_uri": "https://localhost:8080/"
        },
        "id": "Wo_NE7IRHQ-M",
        "outputId": "b372f977-c3a0-4f71-9e54-661112a0bc01"
      },
      "execution_count": 8,
      "outputs": [
        {
          "output_type": "stream",
          "name": "stdout",
          "text": [
            "Conjunto de números: {1, 2, 3, 4, 5, 6, 7, 8}\n",
            "Números no duplicados: {1, 2, 3, 4, 5, 6, 7, 8}\n"
          ]
        }
      ]
    },
    {
      "cell_type": "code",
      "source": [
        "#Ejercicio 15\n",
        "def numeros_primos_ordenados(conjunto_numeros):\n",
        "    def es_primo(numero):\n",
        "        if numero < 2:\n",
        "            return False\n",
        "        for i in range(2, int(numero ** 0.5) + 1):\n",
        "            if numero % i == 0:\n",
        "                return False\n",
        "        return True\n",
        "\n",
        "    numeros_primos = {numero for numero in conjunto_numeros if es_primo(numero)}\n",
        "    numeros_primos_ordenados = sorted(numeros_primos)\n",
        "    return numeros_primos_ordenados\n",
        "\n",
        "# Ejemplo de uso\n",
        "conjunto_numeros_ejemplo = {1, 2, 3, 4, 5, 6, 7, 8, 9, 10}\n",
        "resultado_numeros_primos = numeros_primos_ordenados(conjunto_numeros_ejemplo)\n",
        "\n",
        "# Mostrar el resultado\n",
        "print(\"Conjunto de números:\", conjunto_numeros_ejemplo)\n",
        "print(\"Números primos ordenados:\", resultado_numeros_primos)\n"
      ],
      "metadata": {
        "id": "Jx7YCHJ-3Z-M",
        "colab": {
          "base_uri": "https://localhost:8080/"
        },
        "outputId": "60ea720e-30bc-45fd-b45b-2ad1d3d8e62b"
      },
      "execution_count": 9,
      "outputs": [
        {
          "output_type": "stream",
          "name": "stdout",
          "text": [
            "Conjunto de números: {1, 2, 3, 4, 5, 6, 7, 8, 9, 10}\n",
            "Números primos ordenados: [2, 3, 5, 7]\n"
          ]
        }
      ]
    },
    {
      "cell_type": "code",
      "source": [
        "#ejercicio 16\n",
        "def palabras_palindromos_ordenadas(conjunto_palabras):\n",
        "    palindromos = {palabra for palabra in conjunto_palabras if palabra == palabra[::-1]}\n",
        "    palindromos_ordenados = sorted(palindromos)\n",
        "    return palindromos_ordenados\n",
        "\n",
        "# Ejemplo\n",
        "conjunto_palabras_ejemplo = {\"radar\", \"civic\", \"hello\", \"level\", \"world\", \"deified\"}\n",
        "resultado_palindromos_ordenados = palabras_palindromos_ordenadas(conjunto_palabras_ejemplo)\n",
        "\n",
        "# Mostrar el resultado\n",
        "print(\"Conjunto de palabras:\", conjunto_palabras_ejemplo)\n",
        "print(\"Palíndromos ordenados:\", resultado_palindromos_ordenados)\n"
      ],
      "metadata": {
        "colab": {
          "base_uri": "https://localhost:8080/"
        },
        "id": "HNSplOANHbuk",
        "outputId": "22e5e429-b9be-4e6d-c03d-51d81e576047"
      },
      "execution_count": 10,
      "outputs": [
        {
          "output_type": "stream",
          "name": "stdout",
          "text": [
            "Conjunto de palabras: {'deified', 'hello', 'level', 'civic', 'radar', 'world'}\n",
            "Palíndromos ordenados: ['civic', 'deified', 'level', 'radar']\n"
          ]
        }
      ]
    },
    {
      "cell_type": "code",
      "source": [
        "#ejercicio 17\n",
        "def palabras_longitud_ordenadas(conjunto_palabras, longitud):\n",
        "    palabras_longitud = {palabra for palabra in conjunto_palabras if len(palabra) == longitud}\n",
        "    palabras_longitud_ordenadas = sorted(palabras_longitud)\n",
        "    return palabras_longitud_ordenadas\n",
        "\n",
        "# Ejemplo\n",
        "conjunto_palabras_ejemplo = {\"apple\", \"banana\", \"kiwi\", \"orange\", \"grape\", \"peach\"}\n",
        "longitud_ejemplo = 5\n",
        "resultado_palabras_longitud = palabras_longitud_ordenadas(conjunto_palabras_ejemplo, longitud_ejemplo)\n",
        "\n",
        "# Mostrar el resultado\n",
        "print(\"Conjunto de palabras:\", conjunto_palabras_ejemplo)\n",
        "print(f\"Palabras de longitud {longitud_ejemplo} ordenadas:\", resultado_palabras_longitud)\n"
      ],
      "metadata": {
        "colab": {
          "base_uri": "https://localhost:8080/"
        },
        "id": "sDJvX25XHlBl",
        "outputId": "be0c1795-96cf-4360-8ba8-f093d0a5935b"
      },
      "execution_count": 11,
      "outputs": [
        {
          "output_type": "stream",
          "name": "stdout",
          "text": [
            "Conjunto de palabras: {'orange', 'apple', 'kiwi', 'peach', 'grape', 'banana'}\n",
            "Palabras de longitud 5 ordenadas: ['apple', 'grape', 'peach']\n"
          ]
        }
      ]
    },
    {
      "cell_type": "code",
      "source": [
        "#ejercico 18\n",
        "def palabras_con_letra_ordenadas(conjunto_palabras, letra):\n",
        "    palabras_con_la_letra = {palabra for palabra in conjunto_palabras if letra in palabra}\n",
        "    palabras_con_la_letra_ordenadas = sorted(palabras_con_la_letra, reverse=True)\n",
        "    return palabras_con_la_letra_ordenadas\n",
        "\n",
        "# Ejemplo\n",
        "conjunto_palabras_ejemplo = {\"apple\", \"banana\", \"kiwi\", \"orange\", \"grape\", \"peach\"}\n",
        "letra_ejemplo = \"a\"\n",
        "resultado_palabras_con_letra = palabras_con_letra_ordenadas(conjunto_palabras_ejemplo, letra_ejemplo)\n",
        "\n",
        "# Mostrar el resultado\n",
        "print(\"Conjunto de palabras:\", conjunto_palabras_ejemplo)\n",
        "print(f\"Palabras que contienen la letra '{letra_ejemplo}' ordenadas:\", resultado_palabras_con_letra)\n",
        "\n"
      ],
      "metadata": {
        "colab": {
          "base_uri": "https://localhost:8080/"
        },
        "id": "wikjeqeFHs7J",
        "outputId": "f66cf234-4a00-42ba-c853-a1f95c745842"
      },
      "execution_count": 12,
      "outputs": [
        {
          "output_type": "stream",
          "name": "stdout",
          "text": [
            "Conjunto de palabras: {'orange', 'apple', 'kiwi', 'peach', 'grape', 'banana'}\n",
            "Palabras que contienen la letra 'a' ordenadas: ['peach', 'orange', 'grape', 'banana', 'apple']\n"
          ]
        }
      ]
    },
    {
      "cell_type": "code",
      "source": [
        "#EJERCICIO 19\n",
        "def numeros_ordenados_sin_duplicados(conjunto_numeros):\n",
        "    numeros_ordenados = sorted(set(conjunto_numeros))\n",
        "    return numeros_ordenados\n",
        "\n",
        "# Ejemplo\n",
        "conjunto_numeros_ejemplo = {3, 1, 5, 2, 2, 4, 5}\n",
        "resultado_numeros_ordenados = numeros_ordenados_sin_duplicados(conjunto_numeros_ejemplo)\n",
        "\n",
        "print(\"Conjunto de números:\", conjunto_numeros_ejemplo)\n",
        "print(\"Números ordenados sin duplicados:\", resultado_numeros_ordenados)\n"
      ],
      "metadata": {
        "colab": {
          "base_uri": "https://localhost:8080/"
        },
        "id": "XHGoGv9EH7zZ",
        "outputId": "e4047bb1-55b2-485e-820b-3d3f049b2945"
      },
      "execution_count": 13,
      "outputs": [
        {
          "output_type": "stream",
          "name": "stdout",
          "text": [
            "Conjunto de números: {1, 2, 3, 4, 5}\n",
            "Números ordenados sin duplicados: [1, 2, 3, 4, 5]\n"
          ]
        }
      ]
    },
    {
      "cell_type": "code",
      "source": [
        "#ejercicio 20\n",
        "def palabras_palindromos_longitud_ordenadas(conjunto_palabras, longitud):\n",
        "    palindromos_longitud = {palabra for palabra in conjunto_palabras if palabra == palabra[::-1] and len(palabra) == longitud}\n",
        "    palindromos_longitud_ordenados = sorted(palindromos_longitud)\n",
        "    return palindromos_longitud_ordenados\n",
        "\n",
        "# Ejemplo\n",
        "conjunto_palabras_ejemplo = {\"radar\", \"civic\", \"level\", \"hello\", \"deified\", \"world\"}\n",
        "longitud_ejemplo = 5\n",
        "resultado_palindromos_longitud = palabras_palindromos_longitud_ordenadas(conjunto_palabras_ejemplo, longitud_ejemplo)\n",
        "\n",
        "print(\"Conjunto de palabras:\", conjunto_palabras_ejemplo)\n",
        "print(f\"Palíndromos de longitud {longitud_ejemplo} ordenados:\", resultado_palindromos_longitud)\n"
      ],
      "metadata": {
        "colab": {
          "base_uri": "https://localhost:8080/"
        },
        "id": "QsG1aHrnHy-L",
        "outputId": "6e7e5dce-f0b4-483b-9e84-baca8d99526b"
      },
      "execution_count": 14,
      "outputs": [
        {
          "output_type": "stream",
          "name": "stdout",
          "text": [
            "Conjunto de palabras: {'deified', 'hello', 'level', 'civic', 'radar', 'world'}\n",
            "Palíndromos de longitud 5 ordenados: ['civic', 'level', 'radar']\n"
          ]
        }
      ]
    }
  ]
}
