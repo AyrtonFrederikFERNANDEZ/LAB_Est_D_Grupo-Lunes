{
  "nbformat": 4,
  "nbformat_minor": 0,
  "metadata": {
    "colab": {
      "provenance": [],
      "authorship_tag": "ABX9TyNy1xx/tPWRPtrYOswQCSb3",
      "include_colab_link": true
    },
    "kernelspec": {
      "name": "python3",
      "display_name": "Python 3"
    },
    "language_info": {
      "name": "python"
    }
  },
  "cells": [
    {
      "cell_type": "markdown",
      "metadata": {
        "id": "view-in-github",
        "colab_type": "text"
      },
      "source": [
        "<a href=\"https://colab.research.google.com/github/AyrtonFrederikFERNANDEZ/FRK/blob/main/Laboratorio1y2_terraza.ipynb\" target=\"_parent\"><img src=\"https://colab.research.google.com/assets/colab-badge.svg\" alt=\"Open In Colab\"/></a>"
      ]
    },
    {
      "cell_type": "code",
      "execution_count": null,
      "metadata": {
        "colab": {
          "base_uri": "https://localhost:8080/"
        },
        "id": "veOByHaNj2FG",
        "outputId": "a1d5b9bd-7506-4c0b-b5b4-a744ccb12eeb"
      },
      "outputs": [
        {
          "output_type": "stream",
          "name": "stdout",
          "text": [
            "la suma de los primeros 10 numeros naturales es:55\n"
          ]
        }
      ],
      "source": [
        "n= 10\n",
        "sum = sum(range(1,n+1))\n",
        "print(f\"la suma de los primeros {n} numeros naturales es:{sum}\")\n"
      ]
    },
    {
      "cell_type": "code",
      "source": [
        "#ejercicio 1\n",
        "# ingrese dos números\n",
        "num1 = 10\n",
        "num2 = 8\n",
        "\n",
        "sum = num1 + num2\n",
        "suma = num1-num2\n",
        "multiplicación = num1*num2\n",
        "división = num1/num2\n",
        "# Realizar las operaciones e imprimir los resultados\n",
        "print(f\"Suma: {num1 + num2}\")\n",
        "print(f\"Resta: {num1 - num2}\")\n",
        "print(f\"Multiplicación: {num1 * num2}\")\n",
        "print(f\"división es:{num1/num2}\")\n"
      ],
      "metadata": {
        "colab": {
          "base_uri": "https://localhost:8080/"
        },
        "id": "CnrCPhvNm4HO",
        "outputId": "e6d3a0d5-27e7-4b8f-a7c3-6d5420bd3901"
      },
      "execution_count": null,
      "outputs": [
        {
          "output_type": "stream",
          "name": "stdout",
          "text": [
            "Suma: 18\n",
            "Resta: 2\n",
            "Multiplicación: 80\n",
            "división es:1.25\n"
          ]
        }
      ]
    },
    {
      "cell_type": "code",
      "source": [
        "#ejercicio 2\n",
        "n = float(input(\"ingrese numero: \"))\n",
        "if n % 2==0:\n",
        "  print(f\"el {n} es par\")\n",
        "else:\n",
        "  print(f\"el {n} es impar\")"
      ],
      "metadata": {
        "colab": {
          "base_uri": "https://localhost:8080/"
        },
        "id": "HC6mVsbLpNen",
        "outputId": "271c5a27-9177-4f78-dce0-6b13a7c9d5d3"
      },
      "execution_count": null,
      "outputs": [
        {
          "output_type": "stream",
          "name": "stdout",
          "text": [
            "ingrese numero: 5\n",
            "el 5.0 es impar\n"
          ]
        }
      ]
    },
    {
      "cell_type": "code",
      "source": [
        "#ejercicio 3\n",
        "\n",
        "base = 10\n",
        "altura = 8\n",
        "\n",
        "area = (base * altura) / 2\n",
        "\n",
        "print(f\"El área del triángulo con base {base} y altura {altura} es: {area}\")"
      ],
      "metadata": {
        "colab": {
          "base_uri": "https://localhost:8080/"
        },
        "id": "NU6NOEeArXmI",
        "outputId": "9d86e9ef-4bce-47ae-c338-79d14f3e80ca"
      },
      "execution_count": null,
      "outputs": [
        {
          "output_type": "stream",
          "name": "stdout",
          "text": [
            "El área del triángulo con base 10 y altura 8 es: 40.0\n"
          ]
        }
      ]
    },
    {
      "cell_type": "code",
      "source": [
        "#EJERCICIO 4\n",
        "#factorial\n",
        "def calcular_factorial(n):\n",
        "    if n < 0:\n",
        "        return \"No se puede calcular el factorial de un número negativo.\"\n",
        "    elif n == 0 or n == 1:\n",
        "        return 1\n",
        "    else:\n",
        "        factorial = 1\n",
        "        for i in range(2, n + 1):\n",
        "            factorial *= i\n",
        "        return factorial\n",
        "\n",
        "# Solicitar al usuario que ingrese un número\n",
        "numero_ingresado = int(input(\"Ingrese un número para calcular su factorial: \"))\n",
        "\n",
        "# Llamar a la función y mostrar el resultado\n",
        "resultado_factorial = calcular_factorial(numero_ingresado)\n",
        "print(f\"El factorial de {numero_ingresado} es: {resultado_factorial}\")\n"
      ],
      "metadata": {
        "id": "XcYE4I8DsTdq",
        "colab": {
          "base_uri": "https://localhost:8080/"
        },
        "outputId": "46cc1bc8-4c7b-461e-88c7-f51a9f12340c"
      },
      "execution_count": null,
      "outputs": [
        {
          "output_type": "stream",
          "name": "stdout",
          "text": [
            "El factorial de 5 es: 120\n"
          ]
        }
      ]
    },
    {
      "cell_type": "code",
      "source": [
        "#EJERCICIO 5:\n",
        "#Verifica si un número ingresado por el usuario es primo o no\n",
        "\n",
        "def es_primo(n):\n",
        "    if n <= 1:\n",
        "      return False\n",
        "\n",
        "    for i in range(2, int(n ** 0.5) + 1):\n",
        "        if n % i == 0:\n",
        "          return False\n",
        "    return True\n",
        "\n",
        "# ingrese un número\n",
        "num_ingresado= int(input(\"Ingresa un número para verificar si es primo: \"))\n",
        "\n",
        "# Verificar si el número es primo o no\n",
        "if es_primo(num_ingresado):\n",
        "    print(f\"El número {num_ingresado} es primo.\")\n",
        "else:\n",
        "\n",
        "    print(f\"El número {num_ingresado} no es primo.\")"
      ],
      "metadata": {
        "colab": {
          "base_uri": "https://localhost:8080/"
        },
        "id": "4dSa35hbtCfG",
        "outputId": "58a9d25c-a991-4d9a-86c8-61667d3f7f6f"
      },
      "execution_count": null,
      "outputs": [
        {
          "output_type": "stream",
          "name": "stdout",
          "text": [
            "Ingresa un número para verificar si es primo: 11\n",
            "El número 11 es primo.\n"
          ]
        }
      ]
    },
    {
      "cell_type": "code",
      "source": [
        "#ejercicio 6\n",
        "#introducir un texto e invertirla\n",
        "def invertir_cadena(cadena):\n",
        "    return cadena[::-1]\n",
        "\n",
        "# Solicitar al usuario que ingrese una cadena de texto\n",
        "cadena_ingresada = input(\"Ingrese una cadena de texto para invertirla: \")\n",
        "\n",
        "# Invertir la cadena y mostrar el resultado\n",
        "cadena_invertida = invertir_cadena(cadena_ingresada)\n",
        "print(f\"La cadena invertida es: {cadena_invertida}\")\n"
      ],
      "metadata": {
        "colab": {
          "base_uri": "https://localhost:8080/"
        },
        "id": "40RIcVgqu7j0",
        "outputId": "f4b653bf-1ed4-47dc-f6b9-9cb13ce6e24c"
      },
      "execution_count": null,
      "outputs": [
        {
          "output_type": "stream",
          "name": "stdout",
          "text": [
            "Ingrese una cadena de texto para invertirla: hola\n",
            "La cadena invertida es: aloh\n"
          ]
        }
      ]
    },
    {
      "cell_type": "code",
      "source": [
        "#ejercicio 7\n",
        "# Suma de Números Pares:\n",
        "#Calcula la suma de los números pares en un rango especificado por el usuario\n",
        "\n",
        "def suma_numeros_pares(rango_inicio, rango_fin):\n",
        "    suma = 0\n",
        "    for numero in range(rango_inicio, rango_fin + 1):\n",
        "        if numero % 2 == 0:\n",
        "            suma += numero\n",
        "    return suma\n",
        "#  ingrese el rango\n",
        "inicio = int(input(\"Ingrese el inicio del rango: \"))\n",
        "fin = int(input(\"Ingrese el fin del rango: \"))\n",
        "# Calcular la suma de los números pares y mostrar el resultado\n",
        "resultado_suma_pares = suma_numeros_pares(inicio, fin)\n",
        "print(f\"La suma de los números pares en el rango de {inicio} a {fin} es: {resultado_suma_pares}\")\n"
      ],
      "metadata": {
        "colab": {
          "base_uri": "https://localhost:8080/"
        },
        "id": "u7N6s5VEwCj8",
        "outputId": "97412426-ed17-48f0-8139-75127beba36c"
      },
      "execution_count": null,
      "outputs": [
        {
          "output_type": "stream",
          "name": "stdout",
          "text": [
            "Ingrese el inicio del rango: 12\n",
            "Ingrese el fin del rango: 25\n",
            "La suma de los números pares en el rango de 12 a 25 es: 126\n"
          ]
        }
      ]
    },
    {
      "cell_type": "code",
      "source": [
        "#ejercicio 8\n",
        "######## Lista de Cuadrados: Crea una lista de los cuadrados de los primeros 10 números naturales.\n",
        "# Crear una lista de los cuadrados de los primeros 10 números naturales\n",
        "cuadrados = [i ** 2 for i in range(1, 11)]\n",
        "\n",
        "# Mostrar la lista resultante\n",
        "print(\"Lista de cuadrados de los primeros 10 números naturales:\")\n",
        "print(cuadrados)\n",
        "\n"
      ],
      "metadata": {
        "colab": {
          "base_uri": "https://localhost:8080/"
        },
        "id": "w_yCgYf3wnjA",
        "outputId": "01a21c21-0ce0-42da-f6e1-e11a20e46041"
      },
      "execution_count": null,
      "outputs": [
        {
          "output_type": "stream",
          "name": "stdout",
          "text": [
            "Lista de cuadrados de los primeros 10 números naturales:\n",
            "[1, 4, 9, 16, 25, 36, 49, 64, 81, 100]\n"
          ]
        }
      ]
    },
    {
      "cell_type": "code",
      "source": [
        "#ejercicio 9\n",
        "#Contador de Vocales: Cuenta el número de vocales en una cadena de texto.\n",
        "def contar_vocales(cadena):\n",
        "    vocales = \"aeiouAEIOU\"\n",
        "    contador = 0\n",
        "    for caracter in cadena:\n",
        "        if caracter in vocales:\n",
        "            contador += 1\n",
        "    return contador\n",
        "\n",
        "# Solicitar al usuario que ingrese una cadena de texto\n",
        "cadena_ingresada = input(\"Ingrese una cadena de texto para contar las vocales: \")\n",
        "\n",
        "# Contar las vocales y mostrar el resultado\n",
        "resultado_contador_vocales = contar_vocales(cadena_ingresada)\n",
        "print(f\"El número de vocales en la cadena es: {resultado_contador_vocales}\")\n"
      ],
      "metadata": {
        "colab": {
          "base_uri": "https://localhost:8080/"
        },
        "id": "9tp8X-fCxByJ",
        "outputId": "408ee046-bf7b-4e88-c428-a46f27992ad8"
      },
      "execution_count": null,
      "outputs": [
        {
          "output_type": "stream",
          "name": "stdout",
          "text": [
            "Ingrese una cadena de texto para contar las vocales: frederik fernandez\n",
            "El número de vocales en la cadena es: 6\n"
          ]
        }
      ]
    },
    {
      "cell_type": "code",
      "source": [
        "#ejercicio 10\n",
        "#Genera los primeros 10 números de la serie Fibonacci.\n",
        "def generar_serie_fibonacci(n):\n",
        "    fibonacci = [0, 1]\n",
        "    while len(fibonacci) < n:\n",
        "        fibonacci.append(fibonacci[-1] + fibonacci[-2])\n",
        "    return fibonacci\n",
        "\n",
        "# Generar los primeros 10 números de la serie Fibonacci\n",
        "n = 10\n",
        "serie_fibonacci = generar_serie_fibonacci(n)\n",
        "\n",
        "# Mostrar la serie resultante\n",
        "print(f\"Los primeros {n} números de la serie Fibonacci son:\")\n",
        "print(serie_fibonacci)\n"
      ],
      "metadata": {
        "colab": {
          "base_uri": "https://localhost:8080/"
        },
        "id": "J90XEmsoxYlX",
        "outputId": "5de6d8c9-206b-424a-c9d1-b39b034b39f7"
      },
      "execution_count": null,
      "outputs": [
        {
          "output_type": "stream",
          "name": "stdout",
          "text": [
            "Los primeros 10 números de la serie Fibonacci son:\n",
            "[0, 1, 1, 2, 3, 5, 8, 13, 21, 34]\n"
          ]
        }
      ]
    },
    {
      "cell_type": "code",
      "source": [
        "# ejercicio 11\n",
        "#Ordenamiento de Lista: Ordena una lista de números ingresados por el usuario de menor a mayor.\n",
        "# Solicitar al usuario ingresar una lista de números separados por espacios\n",
        "entrada_usuario = input(\"Ingrese una lista de números separados por espacios: \")\n",
        "\n",
        "# Convertir la entrada del usuario en una lista de números\n",
        "numeros = [float(numero) for numero in entrada_usuario.split()]\n",
        "\n",
        "# Ordenar la lista de menor a mayor\n",
        "numeros_ordenados = sorted(numeros)\n",
        "\n",
        "# Mostrar la lista ordenada\n",
        "print(\"Lista ordenada de menor a mayor:\")\n",
        "print(numeros_ordenados)\n"
      ],
      "metadata": {
        "colab": {
          "base_uri": "https://localhost:8080/"
        },
        "id": "foCXWGoHxxRH",
        "outputId": "f2ec0f5c-4c46-43d4-ff90-8a86d11359f7"
      },
      "execution_count": null,
      "outputs": [
        {
          "output_type": "stream",
          "name": "stdout",
          "text": [
            "Ingrese una lista de números separados por espacios: 1 2 5 4 7 8  7  54  2\n",
            "Lista ordenada de menor a mayor:\n",
            "[1.0, 2.0, 2.0, 4.0, 5.0, 7.0, 7.0, 8.0, 54.0]\n"
          ]
        }
      ]
    },
    {
      "cell_type": "code",
      "source": [
        "#ejercicio 12\n",
        "#Palíndromo: Verifica si una palabra ingresada por el usuario es un palíndromo\n",
        "def es_palindromo(palabra):\n",
        "    palabra = palabra.lower()  # Convertir la palabra a minúsculas para hacer la comparación insensible a mayúsculas\n",
        "    palabra = ''.join(c for c in palabra if c.isalnum())  # Quitar caracteres no alfanuméricos\n",
        "    return palabra == palabra[::-1]\n",
        "\n",
        "# Solicitar al usuario que ingrese una palabra\n",
        "palabra_ingresada = input(\"Ingrese una palabra para verificar si es un palíndromo: \")\n",
        "\n",
        "# Verificar si la palabra es un palíndromo y mostrar el resultado\n",
        "if es_palindromo(palabra_ingresada):\n",
        "    print(f\"{palabra_ingresada} es un palíndromo.\")\n",
        "else:\n",
        "    print(f\"{palabra_ingresada} no es un palíndromo.\")\n"
      ],
      "metadata": {
        "colab": {
          "base_uri": "https://localhost:8080/"
        },
        "id": "e5MIgVwYyRAZ",
        "outputId": "7054f420-cc6a-4b43-87ff-bda8b45af549"
      },
      "execution_count": null,
      "outputs": [
        {
          "output_type": "stream",
          "name": "stdout",
          "text": [
            "Ingrese una palabra para verificar si es un palíndromo: me gusta el futbol\n",
            "me gusta el futbol no es un palíndromo.\n"
          ]
        }
      ]
    },
    {
      "cell_type": "code",
      "source": [
        "#ejercicio 13\n",
        "# Generador de Tablas de Multiplicar: Crea un programa que genere la tabla de multiplicar de un número ingresado por el usuario\n",
        "# Solicitar al usuario que ingrese un número\n",
        "numero_ingresado = int(input(\"Ingrese un número para generar su tabla de multiplicar: \"))\n",
        "\n",
        "# Generar y mostrar la tabla de multiplicar\n",
        "print(f\"Tabla de multiplicar del {numero_ingresado}:\")\n",
        "for i in range(1, 11):\n",
        "    resultado = numero_ingresado * i\n",
        "    print(f\"{numero_ingresado} x {i} = {resultado}\")\n"
      ],
      "metadata": {
        "colab": {
          "base_uri": "https://localhost:8080/"
        },
        "id": "sA4BKAZ6yfPG",
        "outputId": "5dccd357-da15-4009-c70f-d7bedcd02571"
      },
      "execution_count": null,
      "outputs": [
        {
          "output_type": "stream",
          "name": "stdout",
          "text": [
            "Ingrese un número para generar su tabla de multiplicar: 10\n",
            "Tabla de multiplicar del 10:\n",
            "10 x 1 = 10\n",
            "10 x 2 = 20\n",
            "10 x 3 = 30\n",
            "10 x 4 = 40\n",
            "10 x 5 = 50\n",
            "10 x 6 = 60\n",
            "10 x 7 = 70\n",
            "10 x 8 = 80\n",
            "10 x 9 = 90\n",
            "10 x 10 = 100\n"
          ]
        }
      ]
    },
    {
      "cell_type": "code",
      "source": [
        "#ejercicio 14\n",
        "# Area de un circulo\n",
        "import math\n",
        "\n",
        "# Solicitar al usuario que ingrese el radio del círculo\n",
        "radio = float(input(\"Ingrese el radio del círculo: \"))\n",
        "\n",
        "# Calcular el área del círculo\n",
        "area = math.pi * (radio ** 2)\n",
        "\n",
        "# Mostrar el resultado\n",
        "print(f\"El área del círculo con radio {radio} es: {area}\")\n",
        "\n"
      ],
      "metadata": {
        "colab": {
          "base_uri": "https://localhost:8080/"
        },
        "id": "CRvAA6Koy2fh",
        "outputId": "1bb6810a-b182-428d-ddf6-e84ee164c7d6"
      },
      "execution_count": null,
      "outputs": [
        {
          "output_type": "stream",
          "name": "stdout",
          "text": [
            "Ingrese el radio del círculo: 5\n",
            "El área del círculo con radio 5.0 es: 78.53981633974483\n"
          ]
        }
      ]
    },
    {
      "cell_type": "code",
      "source": [
        "# ejercicio 15\n",
        "#suma de digitos\n",
        "# Solicitar al usuario que ingrese un número entero\n",
        "numero = int(input(\"Ingrese un número entero: \"))\n",
        "\n",
        "# Calcular la suma de los dígitos\n",
        "suma_digitos = sum(int(digito) for digito in str(abs(numero)))\n",
        "\n",
        "# Mostrar el resultado\n",
        "print(f\"La suma de los dígitos de {numero} es: {suma_digitos}\")\n"
      ],
      "metadata": {
        "colab": {
          "base_uri": "https://localhost:8080/"
        },
        "id": "x3SY0KTmzM8e",
        "outputId": "084f7e53-0c9a-4c12-bcf8-546d13459927"
      },
      "execution_count": null,
      "outputs": [
        {
          "output_type": "stream",
          "name": "stdout",
          "text": [
            "Ingrese un número entero: 51210\n",
            "La suma de los dígitos de 51210 es: 9\n"
          ]
        }
      ]
    }
  ]
}