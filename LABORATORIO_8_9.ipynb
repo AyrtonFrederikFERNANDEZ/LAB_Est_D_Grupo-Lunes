{
  "nbformat": 4,
  "nbformat_minor": 0,
  "metadata": {
    "colab": {
      "provenance": [],
      "include_colab_link": true
    },
    "kernelspec": {
      "name": "python3",
      "display_name": "Python 3"
    },
    "language_info": {
      "name": "python"
    }
  },
  "cells": [
    {
      "cell_type": "markdown",
      "metadata": {
        "id": "view-in-github",
        "colab_type": "text"
      },
      "source": [
        "<a href=\"https://colab.research.google.com/github/AyrtonFrederikFERNANDEZ/FRK/blob/main/LABORATORIO_8_9.ipynb\" target=\"_parent\"><img src=\"https://colab.research.google.com/assets/colab-badge.svg\" alt=\"Open In Colab\"/></a>"
      ]
    },
    {
      "cell_type": "code",
      "source": [
        "#EJERCICIO 1\n",
        "def Comprobar_edad(edad):\n",
        "    assert edad >=0,\"La edad no puede ser negativa\"\n",
        "    assert (edad,int), \"La edad debe ser entero\"\n",
        "a = int(input(\"Ingresar edad: \"))\n",
        "try:\n",
        "    Comprobar_edad(a)\n",
        "    print(\"La edad es correcta\")\n",
        "except AssertionError as error:\n",
        "    print(\"Error: \" ,error)"
      ],
      "metadata": {
        "id": "VKTHfSBAAoCK",
        "colab": {
          "base_uri": "https://localhost:8080/"
        },
        "outputId": "e1391e88-9c08-4c68-ee7d-ba027645eee9"
      },
      "execution_count": 1,
      "outputs": [
        {
          "output_type": "stream",
          "name": "stderr",
          "text": [
            "<>:4: SyntaxWarning: assertion is always true, perhaps remove parentheses?\n",
            "<>:4: SyntaxWarning: assertion is always true, perhaps remove parentheses?\n",
            "<ipython-input-1-f3f6898eb594>:4: SyntaxWarning: assertion is always true, perhaps remove parentheses?\n",
            "  assert (edad,int), \"La edad debe ser entero\"\n"
          ]
        },
        {
          "output_type": "stream",
          "name": "stdout",
          "text": [
            "Ingresar edad: 12\n",
            "La edad es correcta\n"
          ]
        }
      ]
    },
    {
      "cell_type": "code",
      "execution_count": null,
      "metadata": {
        "colab": {
          "base_uri": "https://localhost:8080/"
        },
        "id": "xRJQlEWZ7RZ9",
        "outputId": "2a9bd42f-30ea-4f33-883b-15fec5eb3753"
      },
      "outputs": [
        {
          "output_type": "stream",
          "name": "stdout",
          "text": [
            "ingrese una variable:  10.2\n",
            "El tipo de dato es: float\n"
          ]
        }
      ],
      "source": [
        "#EJERCICIO 2. Verificar el tipo de dato de una variable.\n",
        "def verificar_tipo_dato(variable):\n",
        "    assert isinstance(variable, (int, float, str, list, tuple, dict)), \"El tipo de dato no es válido\"\n",
        "\n",
        "    # Si la aserción pasa, significa que el tipo de dato es válido\n",
        "    print(\"El tipo de dato es válido\")\n",
        "#\n",
        "dato_ingresado= input(\"ingrese una variable:  \")\n",
        "# Ejemplos de uso\n",
        "try:\n",
        "    variable = eval(dato_ingresado)\n",
        "    tipo_de_dato = type(variable).__name__  # Obtener el nombre del tipo de dato como una cadena\n",
        "    print(\"El tipo de dato es:\", tipo_de_dato)\n",
        "except Exception as e:\n",
        "    print(\"Error:\", e)\n"
      ]
    },
    {
      "cell_type": "markdown",
      "source": [],
      "metadata": {
        "id": "sqHWWXJaAWoA"
      }
    },
    {
      "cell_type": "code",
      "source": [
        "#EJERCICIO 3\n",
        "def validar_calificacion(calificacion):\n",
        "    assert 0 <= calificacion <= 100, \"La calificación debe estar en el rango de 0 a 100\"\n",
        "\n",
        "# Ejemplo\n",
        "calificacion = float(input(\"Ingrese la calificación: \"))\n",
        "try:\n",
        "    validar_calificacion(calificacion)\n",
        "    print(\"La calificación es válida.\")\n",
        "except AssertionError as error:\n",
        "    print(error)\n"
      ],
      "metadata": {
        "id": "dsM4XH1TBOvE",
        "colab": {
          "base_uri": "https://localhost:8080/"
        },
        "outputId": "8b7bbe99-104c-4d08-bbb7-3a7746822b18"
      },
      "execution_count": 2,
      "outputs": [
        {
          "output_type": "stream",
          "name": "stdout",
          "text": [
            "Ingrese la calificación: 15\n",
            "La calificación es válida.\n"
          ]
        }
      ]
    },
    {
      "cell_type": "code",
      "source": [
        "#EJERCICIO 4. Asegurar que una lista no esté vacía\n",
        "def asegurar_lista_no_vacia(lista):\n",
        "    assert len(lista) > 0, \"La lista no puede estar vacía\"\n",
        "\n",
        "# Ejemplo de uso\n",
        "mi_lista = input(\"ingrese una lista\")\n",
        "\n",
        "try:\n",
        "    asegurar_lista_no_vacia(mi_lista)\n",
        "    print(\"La lista no está vacía.\")\n",
        "except AssertionError as error:\n",
        "    print(\"Error:\", error)\n",
        "\n"
      ],
      "metadata": {
        "colab": {
          "base_uri": "https://localhost:8080/"
        },
        "id": "vUR-Sw_iAWxd",
        "outputId": "cb99099d-1f76-4dd2-bf62-b8eb10d29cfe"
      },
      "execution_count": null,
      "outputs": [
        {
          "output_type": "stream",
          "name": "stdout",
          "text": [
            "ingrese una lista1, 2, 5 , 5\n",
            "La lista no está vacía.\n"
          ]
        }
      ]
    },
    {
      "cell_type": "code",
      "source": [
        "#EJERCICIO 5\n",
        "def validar_igualdad(objeto1, objeto2):\n",
        "    assert objeto1 == objeto2, \"Los objetos no son iguales\"\n",
        "\n",
        "# Ejemplo de uso\n",
        "objeto1 = [1, 2, 3]\n",
        "objeto2 = [1, 2, 4]\n",
        "try:\n",
        "    validar_igualdad(objeto1, objeto2)\n",
        "    print(\"Los objetos son iguales.\")\n",
        "except AssertionError as error:\n",
        "    print(error)\n"
      ],
      "metadata": {
        "id": "i3GjcUsFBQ25",
        "colab": {
          "base_uri": "https://localhost:8080/"
        },
        "outputId": "9f0410fc-1e7e-4556-f563-b3b660bb36a9"
      },
      "execution_count": 4,
      "outputs": [
        {
          "output_type": "stream",
          "name": "stdout",
          "text": [
            "Los objetos no son iguales\n"
          ]
        }
      ]
    },
    {
      "cell_type": "code",
      "source": [
        "#EJERCICIO 6. Asegurar que un ciclo while se ejecuta al menos una vez\n",
        "def while_al_menos_una_vez():\n",
        "    flag_ejecutado = False\n",
        "\n",
        "    while True:\n",
        "        # Coloca el código que quieres ejecutar en el ciclo while aquí\n",
        "\n",
        "        # Aquí estamos simulando algún tipo de condición o lógica\n",
        "        continuar = input(\"¿Deseas continuar? (s/n): \")\n",
        "\n",
        "        if continuar.lower() == 's':\n",
        "            flag_ejecutado = True\n",
        "            # Aquí puedes poner más lógica si es necesario\n",
        "        else:\n",
        "            break  # Romper el ciclo si el usuario no quiere continuar\n",
        "\n",
        "    assert flag_ejecutado, \"El ciclo while no se ejecutó al menos una vez\"\n",
        "\n",
        "# Ejemplo de uso\n",
        "try:\n",
        "    while_al_menos_una_vez()\n",
        "    print(\"El ciclo while se ejecutó al menos una vez.\")\n",
        "except AssertionError as error:\n",
        "    print(\"Error:\", error)\n"
      ],
      "metadata": {
        "colab": {
          "base_uri": "https://localhost:8080/"
        },
        "id": "pdzEII2CAU3U",
        "outputId": "70e8671b-e078-437b-9561-e61713650a15"
      },
      "execution_count": null,
      "outputs": [
        {
          "output_type": "stream",
          "name": "stdout",
          "text": [
            "¿Deseas continuar? (s/n): s\n",
            "¿Deseas continuar? (s/n): s\n",
            "¿Deseas continuar? (s/n): n\n",
            "El ciclo while se ejecutó al menos una vez.\n"
          ]
        }
      ]
    },
    {
      "cell_type": "code",
      "source": [
        "#ejercicio 7\n",
        "def funcion_ejemplo():\n",
        "    # Supongamos que esta función realiza algún cálculo y retorna un resultado\n",
        "    return 42\n",
        "\n",
        "# Llamamos a la función y verificamos si retorna el valor esperado\n",
        "try:\n",
        "    resultado = funcion_ejemplo()\n",
        "    assert resultado == 42, \"La función no retornó el valor esperado\"\n",
        "    print(\"La función retornó el valor esperado.\")\n",
        "except AssertionError as error:\n",
        "    print(error)\n"
      ],
      "metadata": {
        "colab": {
          "base_uri": "https://localhost:8080/"
        },
        "id": "rXl4A-PxJOue",
        "outputId": "f7ff06fd-eb96-437f-964d-72c72d1461dd"
      },
      "execution_count": 5,
      "outputs": [
        {
          "output_type": "stream",
          "name": "stdout",
          "text": [
            "La función retornó el valor esperado.\n"
          ]
        }
      ]
    },
    {
      "cell_type": "code",
      "source": [
        "#ejercicio 8. validar el estado de una variable después de una operación\n",
        "def sumar(a, b):\n",
        "    return a + b\n",
        "\n",
        "# Ejemplo de uso\n",
        "resultado = sumar(5, 7)\n",
        "\n",
        "# Validar el estado de la variable 'resultado' después de la operación\n",
        "assert resultado == 12, \"El resultado de la suma no es el esperado\"\n",
        "\n",
        "print(\"El resultado de la suma es:\", resultado)\n"
      ],
      "metadata": {
        "colab": {
          "base_uri": "https://localhost:8080/"
        },
        "id": "ft_oNdFVCYxH",
        "outputId": "915cd432-8f95-41d3-bb2a-5a53420255a1"
      },
      "execution_count": null,
      "outputs": [
        {
          "output_type": "stream",
          "name": "stdout",
          "text": [
            "El resultado de la suma es: 12\n"
          ]
        }
      ]
    },
    {
      "cell_type": "code",
      "source": [
        "#EJERCICIO 9\n",
        "import math\n",
        "\n",
        "try:\n",
        "    assert 'sqrt' in dir(math), \"El módulo math no se ha importado correctamente\"\n",
        "    print(\"El módulo math se ha importado correctamente.\")\n",
        "except AssertionError as error:\n",
        "    print(error)\n"
      ],
      "metadata": {
        "id": "A0jaoMt3E2GJ",
        "colab": {
          "base_uri": "https://localhost:8080/"
        },
        "outputId": "97d6e724-69d1-436f-e750-b46454146477"
      },
      "execution_count": 6,
      "outputs": [
        {
          "output_type": "stream",
          "name": "stdout",
          "text": [
            "El módulo math se ha importado correctamente.\n"
          ]
        }
      ]
    },
    {
      "cell_type": "code",
      "source": [
        "#--------------------------------------------------PARTE 2----------------------\n",
        "#-------------------------------------------------------------------------------"
      ],
      "metadata": {
        "id": "rtIs1Ex5DGVB"
      },
      "execution_count": null,
      "outputs": []
    },
    {
      "cell_type": "code",
      "source": [
        "#EJERCICIO 10: Desarrollar el código de buscar nodo en la lista enlazada simple.\n",
        "class Nodo:\n",
        "    def __init__(self, dato):\n",
        "        self.dato = dato\n",
        "        self.siguiente = None\n",
        "\n",
        "class ListaEnlazadaSimple:\n",
        "    def __init__(self):\n",
        "        self.cabeza = None\n",
        "\n",
        "    def agregar_al_final(self, dato):\n",
        "        nuevo_nodo = Nodo(dato)\n",
        "        if self.cabeza is None:\n",
        "            self.cabeza = nuevo_nodo\n",
        "        else:\n",
        "            actual = self.cabeza\n",
        "            while actual.siguiente is not None:\n",
        "                actual = actual.siguiente\n",
        "            actual.siguiente = nuevo_nodo\n",
        "\n",
        "    def buscar(self, valor):\n",
        "        actual = self.cabeza\n",
        "        while actual is not None:\n",
        "            if actual.dato == valor:\n",
        "                return True\n",
        "            actual = actual.siguiente\n",
        "        return False\n",
        "\n",
        "# Ejemplo de uso\n",
        "lista = ListaEnlazadaSimple()\n",
        "lista.agregar_al_final(1)\n",
        "lista.agregar_al_final(2)\n",
        "lista.agregar_al_final(3)\n",
        "\n",
        "valor_buscado = input(\"ingrese el valor buscado:  \")\n",
        "encontrado = lista.buscar(valor_buscado)\n",
        "if encontrado:\n",
        "    print(f\"El valor {valor_buscado} está en la lista.\")\n",
        "else:\n",
        "    print(f\"El valor {valor_buscado} no está en la lista.\")"
      ],
      "metadata": {
        "colab": {
          "base_uri": "https://localhost:8080/"
        },
        "id": "5GnZLZc6DMS8",
        "outputId": "32b1bb17-1709-4cbf-dd79-1389ecf1f0f6"
      },
      "execution_count": null,
      "outputs": [
        {
          "output_type": "stream",
          "name": "stdout",
          "text": [
            "ingrese el valor buscado:  3\n",
            "El valor 3 no está en la lista.\n"
          ]
        }
      ]
    },
    {
      "cell_type": "code",
      "source": [
        "#EJERCICIO 11:\n",
        "class nodo:\n",
        "    def __init__(self, dato):\n",
        "        self.dato = dato\n",
        "        self.siguiente = None\n",
        "class ListaEnlazada:\n",
        "    def __init__(self):\n",
        "        self.primero= None"
      ],
      "metadata": {
        "id": "JDHL3Id3I-cO"
      },
      "execution_count": null,
      "outputs": []
    },
    {
      "cell_type": "code",
      "source": [
        "#EJERCICIO 12:Longitud de la Lista\n",
        "#Crea una función que devuelva la longitud de una lista enlazada simple.\n",
        "class Nodo:\n",
        "    def __init__(self, dato):\n",
        "        self.dato = dato\n",
        "        self.siguiente = None\n",
        "\n",
        "class ListaEnlazadaSimple:\n",
        "    def __init__(self):\n",
        "        self.cabeza = None\n",
        "\n",
        "    def agregar_al_final(self, dato):\n",
        "        nuevo_nodo = Nodo(dato)\n",
        "        if self.cabeza is None:\n",
        "            self.cabeza = nuevo_nodo\n",
        "        else:\n",
        "            actual = self.cabeza\n",
        "            while actual.siguiente is not None:\n",
        "                actual = actual.siguiente\n",
        "            actual.siguiente = nuevo_nodo\n",
        "\n",
        "    def longitud(self):\n",
        "        contador = 0\n",
        "        actual = self.cabeza\n",
        "        while actual is not None:\n",
        "            contador += 1\n",
        "            actual = actual.siguiente\n",
        "        return contador\n",
        "\n",
        "# Ejemplo de uso\n",
        "lista = ListaEnlazadaSimple()\n",
        "lista.agregar_al_final(1)\n",
        "lista.agregar_al_final(2)\n",
        "lista.agregar_al_final(3)\n",
        "lista.agregar_al_final(4)\n",
        "\n",
        "longitud_lista = lista.longitud()\n",
        "print(\"Longitud de la lista:\", longitud_lista)\n"
      ],
      "metadata": {
        "id": "tpy-FlncE0SQ",
        "colab": {
          "base_uri": "https://localhost:8080/"
        },
        "outputId": "4f1d40d0-135c-4def-84e6-05828d2a907a"
      },
      "execution_count": null,
      "outputs": [
        {
          "output_type": "stream",
          "name": "stdout",
          "text": [
            "Longitud de la lista: 4\n"
          ]
        }
      ]
    },
    {
      "cell_type": "code",
      "source": [
        "#ejercicio 13\n",
        "class Nodo:\n",
        "    def __init__(self, dato):\n",
        "        self.dato = dato\n",
        "        self.siguiente = None\n",
        "\n",
        "def concatenar_listas(lista1, lista2):\n",
        "    if lista1 is None:\n",
        "        return lista2\n",
        "    if lista2 is None:\n",
        "        return lista1\n",
        "\n",
        "    actual = lista1\n",
        "    while actual.siguiente is not None:\n",
        "        actual = actual.siguiente\n",
        "\n",
        "    actual.siguiente = lista2\n",
        "    return lista1\n",
        "\n",
        "# Función para imprimir la lista enlazada\n",
        "def imprimir_lista(lista):\n",
        "    actual = lista\n",
        "    while actual is not None:\n",
        "        print(actual.dato, end=\" \")\n",
        "        actual = actual.siguiente\n",
        "    print()\n",
        "\n",
        "# Crear lista 1: 1 -> 2 -> 3\n",
        "nodo1 = Nodo(1)\n",
        "nodo2 = Nodo(2)\n",
        "nodo3 = Nodo(3)\n",
        "nodo1.siguiente = nodo2\n",
        "nodo2.siguiente = nodo3\n",
        "lista1 = nodo1\n",
        "\n",
        "# Crear lista 2: 4 -> 5 -> 6\n",
        "nodo4 = Nodo(4)\n",
        "nodo5 = Nodo(5)\n",
        "nodo6 = Nodo(6)\n",
        "nodo4.siguiente = nodo5\n",
        "nodo5.siguiente = nodo6\n",
        "lista2 = nodo4\n",
        "\n",
        "print(\"Lista 1:\")\n",
        "imprimir_lista(lista1)\n",
        "print(\"Lista 2:\")\n",
        "imprimir_lista(lista2)\n",
        "\n",
        "# Concatenar listas\n",
        "lista_concatenada = concatenar_listas(lista1, lista2)\n",
        "\n",
        "print(\"Lista concatenada:\")\n",
        "imprimir_lista(lista_concatenada)\n"
      ],
      "metadata": {
        "colab": {
          "base_uri": "https://localhost:8080/"
        },
        "id": "AtTYtIdqJpi0",
        "outputId": "0758e799-5fb6-498e-dc0e-14091ed3dbd5"
      },
      "execution_count": 7,
      "outputs": [
        {
          "output_type": "stream",
          "name": "stdout",
          "text": [
            "Lista 1:\n",
            "1 2 3 \n",
            "Lista 2:\n",
            "4 5 6 \n",
            "Lista concatenada:\n",
            "1 2 3 4 5 6 \n"
          ]
        }
      ]
    },
    {
      "cell_type": "code",
      "source": [
        "#ejercicio 14: Eliminar Duplicados\n",
        "# Crea una función que elimine los nodos duplicados de una lista enlazada simple\n",
        "class Nodo:\n",
        "    def __init__(self, dato):\n",
        "        self.dato = dato\n",
        "        self.siguiente = None\n",
        "\n",
        "class ListaEnlazadaSimple:\n",
        "    def __init__(self):\n",
        "        self.cabeza = None\n",
        "\n",
        "    def agregar_al_final(self, dato):\n",
        "        nuevo_nodo = Nodo(dato)\n",
        "        if self.cabeza is None:\n",
        "            self.cabeza = nuevo_nodo\n",
        "        else:\n",
        "            actual = self.cabeza\n",
        "            while actual.siguiente is not None:\n",
        "                actual = actual.siguiente\n",
        "            actual.siguiente = nuevo_nodo\n",
        "\n",
        "    def eliminar_duplicados(self):\n",
        "        if self.cabeza is None:\n",
        "            return\n",
        "\n",
        "        valores_unicos = set()\n",
        "        actual = self.cabeza\n",
        "        anterior = None\n",
        "\n",
        "        while actual is not None:\n",
        "            if actual.dato in valores_unicos:\n",
        "                anterior.siguiente = actual.siguiente\n",
        "            else:\n",
        "                valores_unicos.add(actual.dato)\n",
        "                anterior = actual\n",
        "            actual = actual.siguiente\n",
        "\n",
        "    def imprimir(self):\n",
        "        actual = self.cabeza\n",
        "        while actual is not None:\n",
        "            print(actual.dato, end=\" -> \")\n",
        "            actual = actual.siguiente\n",
        "        print(\"None\")\n",
        "\n",
        "# Ejemplo de uso\n",
        "lista = ListaEnlazadaSimple()\n",
        "lista.agregar_al_final(1)\n",
        "lista.agregar_al_final(2)\n",
        "lista.agregar_al_final(3)\n",
        "lista.agregar_al_final(1)\n",
        "lista.agregar_al_final(2)\n",
        "\n",
        "print(\"Lista original:\")\n",
        "lista.imprimir()\n",
        "\n",
        "lista.eliminar_duplicados()\n",
        "\n",
        "print(\"Lista sin duplicados:\")\n",
        "lista.imprimir()\n"
      ],
      "metadata": {
        "colab": {
          "base_uri": "https://localhost:8080/"
        },
        "id": "QOz4I3OsFx9l",
        "outputId": "56562a21-c015-4018-8435-a1e765549791"
      },
      "execution_count": null,
      "outputs": [
        {
          "output_type": "stream",
          "name": "stdout",
          "text": [
            "Lista original:\n",
            "1 -> 2 -> 3 -> 1 -> 2 -> None\n",
            "Lista sin duplicados:\n",
            "1 -> 2 -> 3 -> None\n"
          ]
        }
      ]
    },
    {
      "cell_type": "code",
      "source": [
        "#ejercicio 15\n",
        "class Nodo:\n",
        "    def __init__(self, dato):\n",
        "        self.dato = dato\n",
        "        self.siguiente = None\n",
        "\n",
        "def invertir_lista(lista):\n",
        "    anterior = None\n",
        "    actual = lista\n",
        "    siguiente = None\n",
        "\n",
        "    while actual is not None:\n",
        "        siguiente = actual.siguiente\n",
        "        actual.siguiente = anterior\n",
        "        anterior = actual\n",
        "        actual = siguiente\n",
        "\n",
        "    lista = anterior\n",
        "    return lista\n",
        "\n",
        "# Función para imprimir la lista enlazada\n",
        "def imprimir_lista(lista):\n",
        "    actual = lista\n",
        "    while actual is not None:\n",
        "        print(actual.dato, end=\" \")\n",
        "        actual = actual.siguiente\n",
        "    print()\n",
        "\n",
        "# Crear lista: 1 -> 2 -> 3 -> 4 -> 5\n",
        "nodo1 = Nodo(1)\n",
        "nodo2 = Nodo(2)\n",
        "nodo3 = Nodo(3)\n",
        "nodo4 = Nodo(4)\n",
        "nodo5 = Nodo(5)\n",
        "nodo1.siguiente = nodo2\n",
        "nodo2.siguiente = nodo3\n",
        "nodo3.siguiente = nodo4\n",
        "nodo4.siguiente = nodo5\n",
        "lista = nodo1\n",
        "\n",
        "print(\"Lista original:\")\n",
        "imprimir_lista(lista)\n",
        "\n",
        "# Invertir la lista\n",
        "lista_invertida = invertir_lista(lista)\n",
        "\n",
        "print(\"Lista invertida:\")\n",
        "imprimir_lista(lista_invertida)\n"
      ],
      "metadata": {
        "colab": {
          "base_uri": "https://localhost:8080/"
        },
        "id": "nYODEoFRJ7F0",
        "outputId": "af7b975d-41ad-47d3-c84b-1f21faaca12f"
      },
      "execution_count": 8,
      "outputs": [
        {
          "output_type": "stream",
          "name": "stdout",
          "text": [
            "Lista original:\n",
            "1 2 3 4 5 \n",
            "Lista invertida:\n",
            "5 4 3 2 1 \n"
          ]
        }
      ]
    }
  ]
}