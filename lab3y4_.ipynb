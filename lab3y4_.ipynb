{
  "nbformat": 4,
  "nbformat_minor": 0,
  "metadata": {
    "colab": {
      "provenance": [],
      "authorship_tag": "ABX9TyMvF8eKU2EdPFmHcOY2vRP5",
      "include_colab_link": true
    },
    "kernelspec": {
      "name": "python3",
      "display_name": "Python 3"
    },
    "language_info": {
      "name": "python"
    }
  },
  "cells": [
    {
      "cell_type": "markdown",
      "metadata": {
        "id": "view-in-github",
        "colab_type": "text"
      },
      "source": [
        "<a href=\"https://colab.research.google.com/github/AyrtonFrederikFERNANDEZ/FRK/blob/main/lab3y4_.ipynb\" target=\"_parent\"><img src=\"https://colab.research.google.com/assets/colab-badge.svg\" alt=\"Open In Colab\"/></a>"
      ]
    },
    {
      "cell_type": "code",
      "execution_count": null,
      "metadata": {
        "colab": {
          "base_uri": "https://localhost:8080/"
        },
        "id": "FPoTchobl67k",
        "outputId": "afbdb5b1-63db-4638-dc21-9c9ffd6ac82c"
      },
      "outputs": [
        {
          "output_type": "stream",
          "name": "stdout",
          "text": [
            "2\n",
            "4\n",
            "6\n",
            "8\n",
            "10\n",
            "12\n",
            "14\n",
            "16\n",
            "18\n",
            "20\n",
            "22\n",
            "24\n",
            "26\n",
            "28\n",
            "30\n",
            "32\n",
            "34\n",
            "36\n",
            "38\n",
            "40\n",
            "42\n",
            "44\n",
            "46\n",
            "48\n",
            "50\n",
            "52\n",
            "54\n",
            "56\n",
            "58\n",
            "60\n",
            "62\n",
            "64\n",
            "66\n",
            "68\n",
            "70\n",
            "72\n",
            "74\n",
            "76\n",
            "78\n",
            "80\n",
            "82\n",
            "84\n",
            "86\n",
            "88\n",
            "90\n",
            "92\n",
            "94\n",
            "96\n",
            "98\n",
            "100\n"
          ]
        }
      ],
      "source": [
        "#EJERCICIO 1\n",
        "# IMPRIME LOS NUMEROS PARES DE 1 A 100\n",
        "def imprimir_pares_recursivo(numero):\n",
        "    if numero <= 100:\n",
        "        if numero % 2 == 0:  #está verificando si el número es divisible por 2, es decir, si es un número par\n",
        "            print(numero)\n",
        "        imprimir_pares_recursivo(numero + 1) #es una llamada recursiva a la misma función\n",
        "\n",
        "# Llamada inicial a la función\n",
        "imprimir_pares_recursivo(1)\n"
      ]
    },
    {
      "cell_type": "code",
      "source": [
        "#ejercicios 2\n",
        "def suma_hasta_n(n):\n",
        "    if n == 1:\n",
        "        return 1\n",
        "    else:\n",
        "        return n + suma_hasta_n(n - 1)\n",
        "\n",
        "def imprimir_suma_hasta_n(n):\n",
        "    suma = suma_hasta_n(n)\n",
        "    return (f\"La suma de los números del 1 al {n} es: {suma}\")\n",
        "\n",
        "# Ejemplo de uso\n",
        "imprimir_suma_hasta_n(10)"
      ],
      "metadata": {
        "colab": {
          "base_uri": "https://localhost:8080/",
          "height": 36
        },
        "id": "KnQgyXMqD-I5",
        "outputId": "a2407e1c-be6c-4083-f139-b25406eb34ee"
      },
      "execution_count": 1,
      "outputs": [
        {
          "output_type": "execute_result",
          "data": {
            "text/plain": [
              "'La suma de los números del 1 al 10 es: 55'"
            ],
            "application/vnd.google.colaboratory.intrinsic+json": {
              "type": "string"
            }
          },
          "metadata": {},
          "execution_count": 1
        }
      ]
    },
    {
      "cell_type": "code",
      "source": [
        "#ejercicio 3\n",
        "#\n",
        "def imprimir_piramide_recursiva(n, fila=1):\n",
        "    if fila > n:\n",
        "        return\n",
        "\n",
        "    imprimir_linea(fila, 1)\n",
        "    imprimir_piramide_recursiva(n, fila + 1)\n",
        "\n",
        "def imprimir_linea(fila, columna):\n",
        "    if columna > fila:\n",
        "        print()  # Salto de línea al final de la fila\n",
        "        return\n",
        "\n",
        "    print(columna, end=\" \")\n",
        "    imprimir_linea(fila, columna + 1)\n",
        "\n",
        "# Solicitar al usuario que ingrese el valor de n\n",
        "n = int(input(\"Ingrese el valor de n para la pirámide: \"))\n",
        "\n",
        "# Llamada inicial a la función\n",
        "imprimir_piramide_recursiva(n)\n"
      ],
      "metadata": {
        "colab": {
          "base_uri": "https://localhost:8080/"
        },
        "id": "c74ZjOLFn50d",
        "outputId": "a6fe7c9b-c0a0-4ae4-d754-42b9d08173e5"
      },
      "execution_count": null,
      "outputs": [
        {
          "output_type": "stream",
          "name": "stdout",
          "text": [
            "1 \n",
            "1 2 \n",
            "1 2 3 \n",
            "1 2 3 4 \n",
            "1 2 3 4 5 \n",
            "1 2 3 4 5 6 \n",
            "1 2 3 4 5 6 7 \n",
            "1 2 3 4 5 6 7 8 \n",
            "1 2 3 4 5 6 7 8 9 \n",
            "1 2 3 4 5 6 7 8 9 10 \n"
          ]
        }
      ]
    },
    {
      "cell_type": "code",
      "source": [
        "### Ejercicio 04\n",
        "def imprimir_piramide_invertida(n, i=1):\n",
        "    if n == 0:\n",
        "        return  # Caso base para evitar la recursión infinita\n",
        "\n",
        "    if i <= n:\n",
        "        # Imprime espacios en blanco para alinear los números\n",
        "        print(\" \" * (n - i), end=\"\")\n",
        "\n",
        "        # Imprime los números en orden descendente\n",
        "        for j in range(i, 0, -1):\n",
        "            print(j, end=\" \")\n",
        "\n",
        "        print()  # Salto de línea\n",
        "\n",
        "        # Llama recursivamente a la función con el siguiente nivel de la pirámide\n",
        "        imprimir_piramide_invertida(n, i + 1)\n",
        "\n",
        "# Ejemplo de uso\n",
        "imprimir_piramide_invertida(5)"
      ],
      "metadata": {
        "colab": {
          "base_uri": "https://localhost:8080/"
        },
        "id": "OgmtG39eEH-H",
        "outputId": "ec466ae6-bfd7-45b5-cf56-6d86bb742fdf"
      },
      "execution_count": 2,
      "outputs": [
        {
          "output_type": "stream",
          "name": "stdout",
          "text": [
            "    1 \n",
            "   2 1 \n",
            "  3 2 1 \n",
            " 4 3 2 1 \n",
            "5 4 3 2 1 \n"
          ]
        }
      ]
    },
    {
      "cell_type": "code",
      "source": [
        "#ejercicio 5\n",
        "#tabla de multiplicar\n",
        "def imprimir_tabla_multiplicar(n, multiplicador=1):\n",
        "    if multiplicador > 10:\n",
        "        return\n",
        "\n",
        "    resultado = n * multiplicador\n",
        "    print(f\"{n} x {multiplicador} = {resultado}\")\n",
        "\n",
        "    imprimir_tabla_multiplicar(n, multiplicador + 1)\n",
        "\n",
        "# Solicitar al usuario que ingrese el valor de n\n",
        "n = int(input(\"Ingrese el valor de n para la tabla de multiplicar: \"))\n",
        "\n",
        "# Llamada inicial a la función\n",
        "imprimir_tabla_multiplicar(n)\n"
      ],
      "metadata": {
        "colab": {
          "base_uri": "https://localhost:8080/"
        },
        "id": "YJFjWyckoy1R",
        "outputId": "059ff76d-d248-442f-bb15-df9df9dade40"
      },
      "execution_count": null,
      "outputs": [
        {
          "output_type": "stream",
          "name": "stdout",
          "text": [
            "Ingrese el valor de n para la tabla de multiplicar: 11\n",
            "11 x 1 = 11\n",
            "11 x 2 = 22\n",
            "11 x 3 = 33\n",
            "11 x 4 = 44\n",
            "11 x 5 = 55\n",
            "11 x 6 = 66\n",
            "11 x 7 = 77\n",
            "11 x 8 = 88\n",
            "11 x 9 = 99\n",
            "11 x 10 = 110\n"
          ]
        }
      ]
    },
    {
      "cell_type": "code",
      "source": [
        "#  Ejercicio 06\n",
        "import numpy as np\n",
        "# Creacion de la matriz con np.array\n",
        "matriz = np.array([[2,3,2.5],[44,4,6],[14,23,1]])\n",
        "print(matriz)\n"
      ],
      "metadata": {
        "colab": {
          "base_uri": "https://localhost:8080/"
        },
        "id": "ZOrahzMgEPBV",
        "outputId": "91726117-7f18-4c30-d770-7def1298ddb4"
      },
      "execution_count": 3,
      "outputs": [
        {
          "output_type": "stream",
          "name": "stdout",
          "text": [
            "[[ 2.   3.   2.5]\n",
            " [44.   4.   6. ]\n",
            " [14.  23.   1. ]]\n"
          ]
        }
      ]
    },
    {
      "cell_type": "code",
      "source": [
        "#ejercicio 7\n",
        "#\tCrea una matriz de números complejos\n",
        "import numpy as np\n",
        "\n",
        "# Definir una matriz de números complejos\n",
        "matriz_compleja = np.array([[1 + 2j, 2 - 1j], [3j, 4]])\n",
        "\n",
        "# Mostrar la matriz\n",
        "print(\"Matriz de números complejos:\")\n",
        "print(matriz_compleja)\n"
      ],
      "metadata": {
        "colab": {
          "base_uri": "https://localhost:8080/"
        },
        "id": "wGmchCzPqYbC",
        "outputId": "c610af81-6074-4c57-91ee-2044bd84c9f3"
      },
      "execution_count": null,
      "outputs": [
        {
          "output_type": "stream",
          "name": "stdout",
          "text": [
            "Matriz de números complejos:\n",
            "[[1.+2.j 2.-1.j]\n",
            " [0.+3.j 4.+0.j]]\n"
          ]
        }
      ]
    },
    {
      "cell_type": "code",
      "source": [
        "# Ejercicio 08\n",
        "\n",
        "\n",
        "# Crear una matriz de matrices\n",
        "matriz_de_matrices = np.array([[np.array([1, 2, 3]), np.array([4, 5, 6])],\n",
        "                               [np.array([7, 8, 9]), np.array([10, 11, 12])]], dtype=object)\n",
        "print(matriz_de_matrices)"
      ],
      "metadata": {
        "colab": {
          "base_uri": "https://localhost:8080/"
        },
        "id": "UrzwarfmEZLE",
        "outputId": "73345ee4-e267-49b6-fea1-3a73b10b607b"
      },
      "execution_count": 5,
      "outputs": [
        {
          "output_type": "stream",
          "name": "stdout",
          "text": [
            "[[[1 2 3]\n",
            "  [4 5 6]]\n",
            "\n",
            " [[7 8 9]\n",
            "  [10 11 12]]]\n"
          ]
        }
      ]
    },
    {
      "cell_type": "code",
      "source": [
        "#ejercicio 9\n",
        "# acceder al elemento central\n",
        "import numpy as np\n",
        "\n",
        "# Crear una matriz de ejemplo\n",
        "matriz = np.array([[2, 8, 3],\n",
        "                   [4, 7, 6],\n",
        "                   [1, 8, 2]])\n",
        "\n",
        "# Obtener las dimensiones de la matriz\n",
        "filas, columnas = matriz.shape\n",
        "\n",
        "# Calcular las coordenadas del elemento central\n",
        "fila_central = filas // 2\n",
        "columna_central = columnas // 2\n",
        "\n",
        "# Acceder al elemento central\n",
        "elemento_central = matriz[fila_central, columna_central]\n",
        "\n",
        "# Mostrar el resultado\n",
        "print(f\"Elemento central de la matriz: {elemento_central}\")\n"
      ],
      "metadata": {
        "colab": {
          "base_uri": "https://localhost:8080/"
        },
        "id": "_8HXlL5arJPJ",
        "outputId": "67bf451b-7c06-4137-bf7d-b127b2b084b2"
      },
      "execution_count": null,
      "outputs": [
        {
          "output_type": "stream",
          "name": "stdout",
          "text": [
            "Elemento central de la matriz: 7\n"
          ]
        }
      ]
    },
    {
      "cell_type": "code",
      "source": [
        "# Ejercicio 10\n",
        "\n",
        "\n",
        "def suma_matrices_diferentes_tamanos(matriz1, matriz2):\n",
        "    # Obtener las dimensiones de ambas matrices\n",
        "    filas1, columnas1 = matriz1.shape\n",
        "    filas2, columnas2 = matriz2.shape\n",
        "\n",
        "    # Crear una nueva matriz del mismo tamaño que la primera matriz\n",
        "    resultado = np.zeros_like(matriz1)\n",
        "\n",
        "    # Sumar las partes superpuestas de ambas matrices\n",
        "    resultado[:filas2, :columnas2] += matriz2\n",
        "\n",
        "    # Sumar la primera matriz\n",
        "    resultado += matriz1\n",
        "\n",
        "    return resultado\n",
        "\n",
        "# E\n",
        "matriz1 = np.array([[1, 2, 3],\n",
        "                    [4, 5, 6]])\n",
        "\n",
        "matriz2 = np.array([[7, 8],\n",
        "                    [9, 10]])\n",
        "\n",
        "resultado = suma_matrices_diferentes_tamanos(matriz1, matriz2)\n",
        "print(\"Resultado de la suma de matrices:\")\n",
        "print(resultado)"
      ],
      "metadata": {
        "colab": {
          "base_uri": "https://localhost:8080/"
        },
        "id": "-7sRhRrmEeB4",
        "outputId": "1746c59b-031b-4e54-9d5e-dc33fb9e15c0"
      },
      "execution_count": 6,
      "outputs": [
        {
          "output_type": "stream",
          "name": "stdout",
          "text": [
            "Resultado de la suma de matrices:\n",
            "[[ 8 10  3]\n",
            " [13 15  6]]\n"
          ]
        }
      ]
    },
    {
      "cell_type": "code",
      "source": [
        "#EJERCICIO 11\n",
        "# Multiplica una matriz por un número.\n",
        "import numpy as np\n",
        "\n",
        "# Crear una matriz de ejemplo\n",
        "matriz = np.array([[1, 2, 3],\n",
        "                   [4, 5, 6],\n",
        "                   [7, 8, 9]])\n",
        "\n",
        "# Definir el número por el cual multiplicar la matriz\n",
        "numero = 3\n",
        "\n",
        "# Multiplicar la matriz por el número\n",
        "matriz_resultante = matriz * numero\n",
        "\n",
        "# Mostrar la matriz resultante\n",
        "print(\"Matriz original:\")\n",
        "print(matriz)\n",
        "\n",
        "print(f\"\\nMatriz multiplicada por {numero}:\")\n",
        "print(matriz_resultante)\n"
      ],
      "metadata": {
        "colab": {
          "base_uri": "https://localhost:8080/"
        },
        "id": "8bT9i6qmsSiN",
        "outputId": "c0d79660-50dd-4107-f78f-d9d800b040c1"
      },
      "execution_count": null,
      "outputs": [
        {
          "output_type": "stream",
          "name": "stdout",
          "text": [
            "Matriz original:\n",
            "[[1 2 3]\n",
            " [4 5 6]\n",
            " [7 8 9]]\n",
            "\n",
            "Matriz multiplicada por 3:\n",
            "[[ 3  6  9]\n",
            " [12 15 18]\n",
            " [21 24 27]]\n"
          ]
        }
      ]
    },
    {
      "cell_type": "code",
      "source": [
        "# Ejercicio 12\n",
        "\n",
        "def media_matriz(matriz):\n",
        "    return np.mean(matriz)\n",
        "\n",
        "# Ejemplo de uso\n",
        "matriz = np.array([[1, 2, 3],\n",
        "                   [4, 5, 6],\n",
        "                   [7, 8, 9]])\n",
        "\n",
        "media = media_matriz(matriz)\n",
        "print(\"Media de los elementos de la matriz:\", media)\n",
        "\n",
        "#### Parte 2"
      ],
      "metadata": {
        "colab": {
          "base_uri": "https://localhost:8080/"
        },
        "id": "imdcew8TErPZ",
        "outputId": "fcabf2d5-a5a7-48a8-85d8-1c683c70ae4b"
      },
      "execution_count": 7,
      "outputs": [
        {
          "output_type": "stream",
          "name": "stdout",
          "text": [
            "Media de los elementos de la matriz: 5.0\n"
          ]
        }
      ]
    },
    {
      "cell_type": "code",
      "source": [
        "#ejercicios complejos\n",
        "#Crea una matriz de números aleatorios de tamaño 100x100\n",
        "import numpy as np\n",
        "\n",
        "# Crear una matriz de números aleatorios de tamaño 100x100\n",
        "matriz_aleatoria = np.random.rand(100, 100)\n",
        "\n",
        "# Mostrar la matriz resultante\n",
        "print(\"Matriz de números aleatorios:\")\n",
        "print(matriz_aleatoria)\n"
      ],
      "metadata": {
        "colab": {
          "base_uri": "https://localhost:8080/"
        },
        "id": "nDLYd6JMs0dS",
        "outputId": "c8b33d84-7afa-49bc-d479-c66ffb6b9792"
      },
      "execution_count": null,
      "outputs": [
        {
          "output_type": "stream",
          "name": "stdout",
          "text": [
            "Matriz de números aleatorios:\n",
            "[[0.83581716 0.92816392 0.33865123 ... 0.61468044 0.19788994 0.81909525]\n",
            " [0.81226681 0.25489677 0.65370628 ... 0.30109425 0.48908254 0.40722192]\n",
            " [0.88231456 0.7825768  0.14129013 ... 0.72542557 0.40457003 0.40583312]\n",
            " ...\n",
            " [0.26287398 0.66547711 0.9345087  ... 0.03827365 0.73597964 0.41373682]\n",
            " [0.0718887  0.68675819 0.49211553 ... 0.58172103 0.88016548 0.95404479]\n",
            " [0.36160466 0.03072326 0.25285568 ... 0.65317898 0.47753711 0.98066563]]\n"
          ]
        }
      ]
    },
    {
      "cell_type": "code",
      "source": [
        "# Ejercicio 02\n",
        "\n",
        "import numpy as np\n",
        "\n",
        "# Crear una matriz de ejemplo\n",
        "matriz = np.random.rand(5, 5)\n",
        "\n",
        "# Calcular la media\n",
        "media = np.mean(matriz)\n",
        "\n",
        "# Calcular la mediana\n",
        "mediana = np.median(matriz)\n",
        "\n",
        "# Calcular la desviación estándar\n",
        "desviacion_estandar = np.std(matriz)\n",
        "\n",
        "# Imprimir los resultados\n",
        "print(\"Matriz:\")\n",
        "print(matriz)\n",
        "print(\"Media:\", media)\n",
        "print(\"Mediana:\", mediana)\n",
        "print(\"Desviación estándar:\", desviacion_estandar)"
      ],
      "metadata": {
        "colab": {
          "base_uri": "https://localhost:8080/"
        },
        "id": "XDBxKCUFExtH",
        "outputId": "d045226e-6205-4803-e8fd-ee1bedc51edf"
      },
      "execution_count": 8,
      "outputs": [
        {
          "output_type": "stream",
          "name": "stdout",
          "text": [
            "Matriz:\n",
            "[[0.10957781 0.61991977 0.37401747 0.45196188 0.58379844]\n",
            " [0.12369414 0.99741567 0.44633693 0.03213449 0.89531984]\n",
            " [0.49699594 0.32914419 0.18926841 0.58585224 0.74224779]\n",
            " [0.75819316 0.86635678 0.16237807 0.89396961 0.15506311]\n",
            " [0.33324758 0.06349912 0.81075915 0.77199553 0.15244669]]\n",
            "Media: 0.4778237522955773\n",
            "Mediana: 0.4519618795160797\n",
            "Desviación estándar: 0.299156089715936\n"
          ]
        }
      ]
    },
    {
      "cell_type": "code",
      "source": [
        "#ejercicio 3 complejos\n",
        "#Escribe una función que encuentre el elemento máximo de una matriz\n",
        "import numpy as np\n",
        "\n",
        "def encontrar_maximo(matriz):\n",
        "    # Utilizar la función np.max para encontrar el elemento máximo\n",
        "    maximo = np.max(matriz)\n",
        "    return maximo\n",
        "\n",
        "# Crear una matriz de ejemplo\n",
        "matriz_ejemplo = np.array([[71, 22, 33],\n",
        "                           [40, 95, 63],\n",
        "                           [17, 80, 5]])\n",
        "\n",
        "# Llamar a la función para encontrar el elemento máximo\n",
        "maximo_encontrado = encontrar_maximo(matriz_ejemplo)\n",
        "\n",
        "# Mostrar el resultado\n",
        "print(\"Matriz de ejemplo:\")\n",
        "print(matriz_ejemplo)\n",
        "print(f\"\\nEl elemento máximo de la matriz es: {maximo_encontrado}\")\n"
      ],
      "metadata": {
        "colab": {
          "base_uri": "https://localhost:8080/"
        },
        "id": "UpRM0vC8tdhB",
        "outputId": "6b28d0ca-2d9c-4476-ddbd-0f08848a5dcc"
      },
      "execution_count": null,
      "outputs": [
        {
          "output_type": "stream",
          "name": "stdout",
          "text": [
            "Matriz de ejemplo:\n",
            "[[71 22 33]\n",
            " [40 95 63]\n",
            " [17 80  5]]\n",
            "\n",
            "El elemento máximo de la matriz es: 95\n"
          ]
        }
      ]
    },
    {
      "cell_type": "code",
      "source": [
        "#ejercicio 5 complejos\n",
        "#Escribe una función que encuentre la matriz de covarianza de dos matrices.\n",
        "import numpy as np\n",
        "\n",
        "def matriz_covarianza(matriz1, matriz2):\n",
        "    # Calcular la matriz de covarianza utilizando np.cov\n",
        "    covarianza = np.cov(matriz1, matriz2, rowvar=False)\n",
        "    return covarianza\n",
        "\n",
        "# Crear dos matrices de ejemplo\n",
        "matriz1 = np.array([[1, 2, 3],\n",
        "                    [4, 5, 6],\n",
        "                    [7, 8, 9]])\n",
        "\n",
        "matriz2 = np.array([[9, 8, 7],\n",
        "                    [6, 5, 4],\n",
        "                    [3, 2, 1]])\n",
        "\n",
        "# Llamar a la función para encontrar la matriz de covarianza\n",
        "matriz_cov = matriz_covarianza(matriz1, matriz2)\n",
        "\n",
        "# Mostrar el resultado\n",
        "print(\"Matriz 1:\")\n",
        "print(matriz1)\n",
        "\n",
        "print(\"\\nMatriz 2:\")\n",
        "print(matriz2)\n",
        "\n",
        "print(\"\\nMatriz de covarianza:\")\n",
        "print(matriz_cov)\n"
      ],
      "metadata": {
        "colab": {
          "base_uri": "https://localhost:8080/"
        },
        "id": "WmPsFaWUuDqs",
        "outputId": "86917d0f-8345-4a4d-f2bc-8a5127a7ea68"
      },
      "execution_count": null,
      "outputs": [
        {
          "output_type": "stream",
          "name": "stdout",
          "text": [
            "Matriz 1:\n",
            "[[1 2 3]\n",
            " [4 5 6]\n",
            " [7 8 9]]\n",
            "\n",
            "Matriz 2:\n",
            "[[9 8 7]\n",
            " [6 5 4]\n",
            " [3 2 1]]\n",
            "\n",
            "Matriz de covarianza:\n",
            "[[ 9.  9.  9. -9. -9. -9.]\n",
            " [ 9.  9.  9. -9. -9. -9.]\n",
            " [ 9.  9.  9. -9. -9. -9.]\n",
            " [-9. -9. -9.  9.  9.  9.]\n",
            " [-9. -9. -9.  9.  9.  9.]\n",
            " [-9. -9. -9.  9.  9.  9.]]\n"
          ]
        }
      ]
    }
  ]
}